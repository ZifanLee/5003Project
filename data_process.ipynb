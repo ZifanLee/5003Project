{
 "cells": [
  {
   "cell_type": "code",
   "execution_count": 270,
   "metadata": {},
   "outputs": [
    {
     "name": "stdout",
     "output_type": "stream",
     "text": [
      "+----+----+--------+----------+-----+------------+-----------------+-----+---------+--------+-----+--------+--------------------+-------+------------+--------------------+\n",
      "|year|make|   model|      trim| body|transmission|              vin|state|condition|odometer|color|interior|              seller|    mmr|sellingprice|            saledate|\n",
      "+----+----+--------+----------+-----+------------+-----------------+-----+---------+--------+-----+--------+--------------------+-------+------------+--------------------+\n",
      "|2015| Kia| Sorento|        LX|  SUV|   automatic|5xyktca69fg566472|   ca|      5.0| 16639.0|white|   black|kia motors americ...|20500.0|     21500.0|Tue Dec 16 2014 1...|\n",
      "|2015| Kia| Sorento|        LX|  SUV|   automatic|5xyktca69fg561319|   ca|      5.0|  9393.0|white|   beige|kia motors americ...|20800.0|     21500.0|Tue Dec 16 2014 1...|\n",
      "|2014| BMW|3 Series|328i SULEV|Sedan|   automatic|wba3c1c51ek116351|   ca|     45.0|  1331.0| gray|   black|financial service...|31900.0|     30000.0|Thu Jan 15 2015 0...|\n",
      "+----+----+--------+----------+-----+------------+-----------------+-----+---------+--------+-----+--------+--------------------+-------+------------+--------------------+\n",
      "only showing top 3 rows\n",
      "\n"
     ]
    }
   ],
   "source": [
    "from pyspark.sql import SparkSession\n",
    "from pyspark.ml.regression import LinearRegression\n",
    "\n",
    "spark = SparkSession.builder.appName('Linear_regression').getOrCreate()\n",
    "data = spark.read.csv('./car_prices.csv', header=True, inferSchema=True)\n",
    "data.show(3)"
   ]
  },
  {
   "cell_type": "code",
   "execution_count": 271,
   "metadata": {},
   "outputs": [
    {
     "name": "stdout",
     "output_type": "stream",
     "text": [
      "root\n",
      " |-- year: integer (nullable = true)\n",
      " |-- make: string (nullable = true)\n",
      " |-- model: string (nullable = true)\n",
      " |-- trim: string (nullable = true)\n",
      " |-- body: string (nullable = true)\n",
      " |-- transmission: string (nullable = true)\n",
      " |-- vin: string (nullable = true)\n",
      " |-- state: string (nullable = true)\n",
      " |-- condition: double (nullable = true)\n",
      " |-- odometer: double (nullable = true)\n",
      " |-- color: string (nullable = true)\n",
      " |-- interior: string (nullable = true)\n",
      " |-- seller: string (nullable = true)\n",
      " |-- mmr: double (nullable = true)\n",
      " |-- sellingprice: double (nullable = true)\n",
      " |-- saledate: string (nullable = true)\n",
      "\n"
     ]
    }
   ],
   "source": [
    "data.printSchema()"
   ]
  },
  {
   "cell_type": "code",
   "execution_count": 272,
   "metadata": {},
   "outputs": [
    {
     "name": "stdout",
     "output_type": "stream",
     "text": [
      "+----+----+-------------------+--------------------+-----------+------------+-----------------+-----+---------+--------+------+--------+--------------------+-------+------------+--------------------+\n",
      "|year|make|              model|                trim|       body|transmission|              vin|state|condition|odometer| color|interior|              seller|    mmr|sellingprice|            saledate|\n",
      "+----+----+-------------------+--------------------+-----------+------------+-----------------+-----+---------+--------+------+--------+--------------------+-------+------------+--------------------+\n",
      "|2015|   8|            Sorento|                  LX|        SUV|   automatic|5xyktca69fg566472|   ca|      5.0| 16639.0| white|   black|kia motors americ...|20500.0|     21500.0|Tue Dec 16 2014 1...|\n",
      "|2015|   8|            Sorento|                  LX|        SUV|   automatic|5xyktca69fg561319|   ca|      5.0|  9393.0| white|   beige|kia motors americ...|20800.0|     21500.0|Tue Dec 16 2014 1...|\n",
      "|2014|   7|           3 Series|          328i SULEV|      Sedan|   automatic|wba3c1c51ek116351|   ca|     45.0|  1331.0|  gray|   black|financial service...|31900.0|     30000.0|Thu Jan 15 2015 0...|\n",
      "|2015|  26|                S60|                  T5|      Sedan|   automatic|yv1612tb4f1310987|   ca|     41.0| 14282.0| white|   black|volvo na rep/worl...|27500.0|     27750.0|Thu Jan 29 2015 0...|\n",
      "|2014|   7|6 Series Gran Coupe|                650i|      Sedan|   automatic|wba6b2c57ed129731|   ca|     43.0|  2641.0|  gray|   black|financial service...|66000.0|     67000.0|Thu Dec 18 2014 1...|\n",
      "|2015|   2|             Altima|               2.5 S|      Sedan|   automatic|1n4al3ap1fn326013|   ca|      1.0|  5554.0|  gray|   black|enterprise vehicl...|15350.0|     10900.0|Tue Dec 30 2014 1...|\n",
      "|2014|   7|                 M5|                Base|      Sedan|   automatic|wbsfv9c51ed593089|   ca|     34.0| 14943.0| black|   black|the hertz corpora...|69000.0|     65000.0|Wed Dec 17 2014 1...|\n",
      "|2014|   1|              Cruze|                 1LT|      Sedan|   automatic|1g1pc5sb2e7128460|   ca|      2.0| 28617.0| black|   black|enterprise vehicl...|11900.0|      9800.0|Tue Dec 16 2014 1...|\n",
      "|2014|  19|                 A4|2.0T Premium Plus...|      Sedan|   automatic|wauffafl3en030343|   ca|     42.0|  9557.0| white|   black|  audi mission viejo|32100.0|     32250.0|Thu Dec 18 2014 1...|\n",
      "|2014|   1|             Camaro|                  LT|Convertible|   automatic|2g1fb3d37e9218789|   ca|      3.0|  4809.0|   red|   black|  d/m auto sales inc|26300.0|     17500.0|Tue Jan 20 2015 0...|\n",
      "|2014|  19|                 A6|3.0T Prestige qua...|      Sedan|   automatic|wauhgafc0en062916|   ca|     48.0| 14414.0| black|   black|   desert auto trade|47300.0|     49750.0|Tue Dec 16 2014 1...|\n",
      "|2015|   8|             Optima|                  LX|      Sedan|   automatic|5xxgm4a73fg353538|   ca|     48.0|  2034.0|   red|     tan|  kia motors finance|15150.0|     17700.0|Tue Dec 16 2014 1...|\n",
      "|2015|   0|             Fusion|                  SE|      Sedan|   automatic|3fa6p0hdxfr145753|   ca|      2.0|  5559.0| white|   beige|enterprise vehicl...|15350.0|     12000.0|Tue Jan 13 2015 1...|\n",
      "|2015|   8|            Sorento|                  LX|        SUV|   automatic|5xyktca66fg561407|   ca|      5.0| 14634.0|silver|   black|kia motors americ...|20600.0|     21500.0|Tue Dec 16 2014 1...|\n",
      "|2015|   2|             Altima|               2.5 S|      Sedan|   automatic|1n4al3ap5fc124223|   ca|      2.0| 11398.0| black|   black|enterprise vehicl...|14750.0|     14100.0|Tue Dec 23 2014 1...|\n",
      "|2014|  19|                 Q5|2.0T Premium Plus...|        SUV|   automatic|wa1lfafpxea085074|   ca|     49.0|  7983.0| white|   black|audi north scotts...|37100.0|     40000.0|Thu Dec 18 2014 1...|\n",
      "|2014|   1|             Camaro|                  LS|      Coupe|   automatic|2g1fa1e39e9134494|   ca|     17.0| 13441.0| black|   black|wells fargo deale...|17750.0|     17000.0|Tue Dec 30 2014 1...|\n",
      "|2014|   7|           6 Series|                650i|Convertible|   automatic|wbayp9c53ed169260|   ca|     34.0|  8819.0| black|   black|the hertz corpora...|68000.0|     67200.0|Wed Dec 17 2014 1...|\n",
      "|2015|   1|             Impala|                 LTZ|      Sedan|   automatic|2g1165s30f9103921|   ca|     19.0| 14538.0|silver|   black|enterprise vehicl...|24300.0|      7200.0|Tue Jul 07 2015 0...|\n",
      "|2014|   7|           5 Series|                528i|      Sedan|   automatic|wba5a5c51ed501631|   ca|     29.0| 25969.0| black|   black|financial service...|34200.0|     30000.0|Tue Feb 03 2015 0...|\n",
      "+----+----+-------------------+--------------------+-----------+------------+-----------------+-----+---------+--------+------+--------+--------------------+-------+------------+--------------------+\n",
      "only showing top 20 rows\n",
      "\n"
     ]
    }
   ],
   "source": [
    "from pyspark.sql.functions import col\n",
    "from pyspark.sql.types import IntegerType\n",
    "\n",
    "# 创建StringIndexer对象\n",
    "stringIndexer = StringIndexer(inputCol=\"make\", outputCol=\"make_index\")\n",
    "\n",
    "# 使用StringIndexer对象进行转换\n",
    "indexedData = stringIndexer.fit(data).transform(data)\n",
    "\n",
    "# 将\"make_index\"列转换为整数类型\n",
    "indexedData = indexedData.withColumn(\"make_index\", col(\"make_index\").cast(IntegerType()))\n",
    "\n",
    "# 替换\"make\"列为\"make_index\"列\n",
    "indexedData = indexedData.withColumn(\"make\", col(\"make_index\")).drop(\"make_index\")\n",
    "\n",
    "# 查看转换后的数据\n",
    "data = indexedData\n",
    "data.show()"
   ]
  },
  {
   "cell_type": "code",
   "execution_count": 273,
   "metadata": {},
   "outputs": [
    {
     "name": "stdout",
     "output_type": "stream",
     "text": [
      "+----+----+-------------------+--------------------+-----------+------------+-----------------+-----+---------+--------+------+--------+--------------------+-------+------------+--------------------+\n",
      "|year|make|              model|                trim|       body|transmission|              vin|state|condition|odometer| color|interior|              seller|    mmr|sellingprice|            saledate|\n",
      "+----+----+-------------------+--------------------+-----------+------------+-----------------+-----+---------+--------+------+--------+--------------------+-------+------------+--------------------+\n",
      "|2015|   8|            Sorento|                  LX|        SUV|   automatic|5xyktca69fg566472|    1|      5.0| 16639.0| white|   black|kia motors americ...|20500.0|     21500.0|Tue Dec 16 2014 1...|\n",
      "|2015|   8|            Sorento|                  LX|        SUV|   automatic|5xyktca69fg561319|    1|      5.0|  9393.0| white|   beige|kia motors americ...|20800.0|     21500.0|Tue Dec 16 2014 1...|\n",
      "|2014|   7|           3 Series|          328i SULEV|      Sedan|   automatic|wba3c1c51ek116351|    1|     45.0|  1331.0|  gray|   black|financial service...|31900.0|     30000.0|Thu Jan 15 2015 0...|\n",
      "|2015|  26|                S60|                  T5|      Sedan|   automatic|yv1612tb4f1310987|    1|     41.0| 14282.0| white|   black|volvo na rep/worl...|27500.0|     27750.0|Thu Jan 29 2015 0...|\n",
      "|2014|   7|6 Series Gran Coupe|                650i|      Sedan|   automatic|wba6b2c57ed129731|    1|     43.0|  2641.0|  gray|   black|financial service...|66000.0|     67000.0|Thu Dec 18 2014 1...|\n",
      "|2015|   2|             Altima|               2.5 S|      Sedan|   automatic|1n4al3ap1fn326013|    1|      1.0|  5554.0|  gray|   black|enterprise vehicl...|15350.0|     10900.0|Tue Dec 30 2014 1...|\n",
      "|2014|   7|                 M5|                Base|      Sedan|   automatic|wbsfv9c51ed593089|    1|     34.0| 14943.0| black|   black|the hertz corpora...|69000.0|     65000.0|Wed Dec 17 2014 1...|\n",
      "|2014|   1|              Cruze|                 1LT|      Sedan|   automatic|1g1pc5sb2e7128460|    1|      2.0| 28617.0| black|   black|enterprise vehicl...|11900.0|      9800.0|Tue Dec 16 2014 1...|\n",
      "|2014|  19|                 A4|2.0T Premium Plus...|      Sedan|   automatic|wauffafl3en030343|    1|     42.0|  9557.0| white|   black|  audi mission viejo|32100.0|     32250.0|Thu Dec 18 2014 1...|\n",
      "|2014|   1|             Camaro|                  LT|Convertible|   automatic|2g1fb3d37e9218789|    1|      3.0|  4809.0|   red|   black|  d/m auto sales inc|26300.0|     17500.0|Tue Jan 20 2015 0...|\n",
      "|2014|  19|                 A6|3.0T Prestige qua...|      Sedan|   automatic|wauhgafc0en062916|    1|     48.0| 14414.0| black|   black|   desert auto trade|47300.0|     49750.0|Tue Dec 16 2014 1...|\n",
      "|2015|   8|             Optima|                  LX|      Sedan|   automatic|5xxgm4a73fg353538|    1|     48.0|  2034.0|   red|     tan|  kia motors finance|15150.0|     17700.0|Tue Dec 16 2014 1...|\n",
      "|2015|   0|             Fusion|                  SE|      Sedan|   automatic|3fa6p0hdxfr145753|    1|      2.0|  5559.0| white|   beige|enterprise vehicl...|15350.0|     12000.0|Tue Jan 13 2015 1...|\n",
      "|2015|   8|            Sorento|                  LX|        SUV|   automatic|5xyktca66fg561407|    1|      5.0| 14634.0|silver|   black|kia motors americ...|20600.0|     21500.0|Tue Dec 16 2014 1...|\n",
      "|2015|   2|             Altima|               2.5 S|      Sedan|   automatic|1n4al3ap5fc124223|    1|      2.0| 11398.0| black|   black|enterprise vehicl...|14750.0|     14100.0|Tue Dec 23 2014 1...|\n",
      "|2014|  19|                 Q5|2.0T Premium Plus...|        SUV|   automatic|wa1lfafpxea085074|    1|     49.0|  7983.0| white|   black|audi north scotts...|37100.0|     40000.0|Thu Dec 18 2014 1...|\n",
      "|2014|   1|             Camaro|                  LS|      Coupe|   automatic|2g1fa1e39e9134494|    1|     17.0| 13441.0| black|   black|wells fargo deale...|17750.0|     17000.0|Tue Dec 30 2014 1...|\n",
      "|2014|   7|           6 Series|                650i|Convertible|   automatic|wbayp9c53ed169260|    1|     34.0|  8819.0| black|   black|the hertz corpora...|68000.0|     67200.0|Wed Dec 17 2014 1...|\n",
      "|2015|   1|             Impala|                 LTZ|      Sedan|   automatic|2g1165s30f9103921|    1|     19.0| 14538.0|silver|   black|enterprise vehicl...|24300.0|      7200.0|Tue Jul 07 2015 0...|\n",
      "|2014|   7|           5 Series|                528i|      Sedan|   automatic|wba5a5c51ed501631|    1|     29.0| 25969.0| black|   black|financial service...|34200.0|     30000.0|Tue Feb 03 2015 0...|\n",
      "+----+----+-------------------+--------------------+-----------+------------+-----------------+-----+---------+--------+------+--------+--------------------+-------+------------+--------------------+\n",
      "only showing top 20 rows\n",
      "\n"
     ]
    }
   ],
   "source": [
    "# 处理state列\n",
    "stringIndexer = StringIndexer(inputCol=\"state\", outputCol=\"state_index\")\n",
    "indexedData = stringIndexer.fit(data).transform(data)\n",
    "indexedData = indexedData.withColumn(\"state_index\", col(\"state_index\").cast(IntegerType()))\n",
    "indexedData = indexedData.withColumn(\"state\", col(\"state_index\")).drop(\"state_index\")\n",
    "\n",
    "data = indexedData\n",
    "data.show()"
   ]
  },
  {
   "cell_type": "code",
   "execution_count": 274,
   "metadata": {},
   "outputs": [
    {
     "name": "stdout",
     "output_type": "stream",
     "text": [
      "+----+----+-----+--------------------+-----------+------------+-----------------+-----+---------+--------+------+--------+--------------------+-------+------------+--------------------+\n",
      "|year|make|model|                trim|       body|transmission|              vin|state|condition|odometer| color|interior|              seller|    mmr|sellingprice|            saledate|\n",
      "+----+----+-----+--------------------+-----------+------------+-----------------+-----+---------+--------+------+--------+--------------------+-------+------------+--------------------+\n",
      "|2015|   8|   40|                  LX|        SUV|   automatic|5xyktca69fg566472|    1|      5.0| 16639.0| white|   black|kia motors americ...|20500.0|     21500.0|Tue Dec 16 2014 1...|\n",
      "|2015|   8|   40|                  LX|        SUV|   automatic|5xyktca69fg561319|    1|      5.0|  9393.0| white|   beige|kia motors americ...|20800.0|     21500.0|Tue Dec 16 2014 1...|\n",
      "|2014|   7|    8|          328i SULEV|      Sedan|   automatic|wba3c1c51ek116351|    1|     45.0|  1331.0|  gray|   black|financial service...|31900.0|     30000.0|Thu Jan 15 2015 0...|\n",
      "|2015|  26|  127|                  T5|      Sedan|   automatic|yv1612tb4f1310987|    1|     41.0| 14282.0| white|   black|volvo na rep/worl...|27500.0|     27750.0|Thu Jan 29 2015 0...|\n",
      "|2014|   7|  398|                650i|      Sedan|   automatic|wba6b2c57ed129731|    1|     43.0|  2641.0|  gray|   black|financial service...|66000.0|     67000.0|Thu Dec 18 2014 1...|\n",
      "|2015|   2|    0|               2.5 S|      Sedan|   automatic|1n4al3ap1fn326013|    1|      1.0|  5554.0|  gray|   black|enterprise vehicl...|15350.0|     10900.0|Tue Dec 30 2014 1...|\n",
      "|2014|   7|  406|                Base|      Sedan|   automatic|wbsfv9c51ed593089|    1|     34.0| 14943.0| black|   black|the hertz corpora...|69000.0|     65000.0|Wed Dec 17 2014 1...|\n",
      "|2014|   1|   18|                 1LT|      Sedan|   automatic|1g1pc5sb2e7128460|    1|      2.0| 28617.0| black|   black|enterprise vehicl...|11900.0|      9800.0|Tue Dec 16 2014 1...|\n",
      "|2014|  19|   61|2.0T Premium Plus...|      Sedan|   automatic|wauffafl3en030343|    1|     42.0|  9557.0| white|   black|  audi mission viejo|32100.0|     32250.0|Thu Dec 18 2014 1...|\n",
      "|2014|   1|   64|                  LT|Convertible|   automatic|2g1fb3d37e9218789|    1|      3.0|  4809.0|   red|   black|  d/m auto sales inc|26300.0|     17500.0|Tue Jan 20 2015 0...|\n",
      "|2014|  19|  150|3.0T Prestige qua...|      Sedan|   automatic|wauhgafc0en062916|    1|     48.0| 14414.0| black|   black|   desert auto trade|47300.0|     49750.0|Tue Dec 16 2014 1...|\n",
      "|2015|   8|   31|                  LX|      Sedan|   automatic|5xxgm4a73fg353538|    1|     48.0|  2034.0|   red|     tan|  kia motors finance|15150.0|     17700.0|Tue Dec 16 2014 1...|\n",
      "|2015|   0|    1|                  SE|      Sedan|   automatic|3fa6p0hdxfr145753|    1|      2.0|  5559.0| white|   beige|enterprise vehicl...|15350.0|     12000.0|Tue Jan 13 2015 1...|\n",
      "|2015|   8|   40|                  LX|        SUV|   automatic|5xyktca66fg561407|    1|      5.0| 14634.0|silver|   black|kia motors americ...|20600.0|     21500.0|Tue Dec 16 2014 1...|\n",
      "|2015|   2|    0|               2.5 S|      Sedan|   automatic|1n4al3ap5fc124223|    1|      2.0| 11398.0| black|   black|enterprise vehicl...|14750.0|     14100.0|Tue Dec 23 2014 1...|\n",
      "|2014|  19|  200|2.0T Premium Plus...|        SUV|   automatic|wa1lfafpxea085074|    1|     49.0|  7983.0| white|   black|audi north scotts...|37100.0|     40000.0|Thu Dec 18 2014 1...|\n",
      "|2014|   1|   64|                  LS|      Coupe|   automatic|2g1fa1e39e9134494|    1|     17.0| 13441.0| black|   black|wells fargo deale...|17750.0|     17000.0|Tue Dec 30 2014 1...|\n",
      "|2014|   7|  155|                650i|Convertible|   automatic|wbayp9c53ed169260|    1|     34.0|  8819.0| black|   black|the hertz corpora...|68000.0|     67200.0|Wed Dec 17 2014 1...|\n",
      "|2015|   1|    7|                 LTZ|      Sedan|   automatic|2g1165s30f9103921|    1|     19.0| 14538.0|silver|   black|enterprise vehicl...|24300.0|      7200.0|Tue Jul 07 2015 0...|\n",
      "|2014|   7|   34|                528i|      Sedan|   automatic|wba5a5c51ed501631|    1|     29.0| 25969.0| black|   black|financial service...|34200.0|     30000.0|Tue Feb 03 2015 0...|\n",
      "+----+----+-----+--------------------+-----------+------------+-----------------+-----+---------+--------+------+--------+--------------------+-------+------------+--------------------+\n",
      "only showing top 20 rows\n",
      "\n"
     ]
    }
   ],
   "source": [
    "# 处理model列\n",
    "stringIndexer = StringIndexer(inputCol=\"model\", outputCol=\"model_index\")\n",
    "indexedData = stringIndexer.fit(data).transform(data)\n",
    "indexedData = indexedData.withColumn(\"model_index\", col(\"model_index\").cast(IntegerType()))\n",
    "indexedData = indexedData.withColumn(\"model\", col(\"model_index\")).drop(\"model_index\")\n",
    "\n",
    "data = indexedData\n",
    "data.show()"
   ]
  },
  {
   "cell_type": "code",
   "execution_count": 275,
   "metadata": {},
   "outputs": [
    {
     "name": "stdout",
     "output_type": "stream",
     "text": [
      "+----+----+-----+--------------------+-----------+------------+-----------------+-----+---------+--------+------+--------+--------------------+-------+------------+--------------------+\n",
      "|year|make|model|                trim|       body|transmission|              vin|state|condition|odometer| color|interior|              seller|    mmr|sellingprice|            saledate|\n",
      "+----+----+-----+--------------------+-----------+------------+-----------------+-----+---------+--------+------+--------+--------------------+-------+------------+--------------------+\n",
      "|2015|   8|   40|                  LX|        SUV|           0|5xyktca69fg566472|    1|      5.0| 16639.0| white|   black|kia motors americ...|20500.0|     21500.0|Tue Dec 16 2014 1...|\n",
      "|2015|   8|   40|                  LX|        SUV|           0|5xyktca69fg561319|    1|      5.0|  9393.0| white|   beige|kia motors americ...|20800.0|     21500.0|Tue Dec 16 2014 1...|\n",
      "|2014|   7|    8|          328i SULEV|      Sedan|           0|wba3c1c51ek116351|    1|     45.0|  1331.0|  gray|   black|financial service...|31900.0|     30000.0|Thu Jan 15 2015 0...|\n",
      "|2015|  26|  127|                  T5|      Sedan|           0|yv1612tb4f1310987|    1|     41.0| 14282.0| white|   black|volvo na rep/worl...|27500.0|     27750.0|Thu Jan 29 2015 0...|\n",
      "|2014|   7|  398|                650i|      Sedan|           0|wba6b2c57ed129731|    1|     43.0|  2641.0|  gray|   black|financial service...|66000.0|     67000.0|Thu Dec 18 2014 1...|\n",
      "|2015|   2|    0|               2.5 S|      Sedan|           0|1n4al3ap1fn326013|    1|      1.0|  5554.0|  gray|   black|enterprise vehicl...|15350.0|     10900.0|Tue Dec 30 2014 1...|\n",
      "|2014|   7|  406|                Base|      Sedan|           0|wbsfv9c51ed593089|    1|     34.0| 14943.0| black|   black|the hertz corpora...|69000.0|     65000.0|Wed Dec 17 2014 1...|\n",
      "|2014|   1|   18|                 1LT|      Sedan|           0|1g1pc5sb2e7128460|    1|      2.0| 28617.0| black|   black|enterprise vehicl...|11900.0|      9800.0|Tue Dec 16 2014 1...|\n",
      "|2014|  19|   61|2.0T Premium Plus...|      Sedan|           0|wauffafl3en030343|    1|     42.0|  9557.0| white|   black|  audi mission viejo|32100.0|     32250.0|Thu Dec 18 2014 1...|\n",
      "|2014|   1|   64|                  LT|Convertible|           0|2g1fb3d37e9218789|    1|      3.0|  4809.0|   red|   black|  d/m auto sales inc|26300.0|     17500.0|Tue Jan 20 2015 0...|\n",
      "|2014|  19|  150|3.0T Prestige qua...|      Sedan|           0|wauhgafc0en062916|    1|     48.0| 14414.0| black|   black|   desert auto trade|47300.0|     49750.0|Tue Dec 16 2014 1...|\n",
      "|2015|   8|   31|                  LX|      Sedan|           0|5xxgm4a73fg353538|    1|     48.0|  2034.0|   red|     tan|  kia motors finance|15150.0|     17700.0|Tue Dec 16 2014 1...|\n",
      "|2015|   0|    1|                  SE|      Sedan|           0|3fa6p0hdxfr145753|    1|      2.0|  5559.0| white|   beige|enterprise vehicl...|15350.0|     12000.0|Tue Jan 13 2015 1...|\n",
      "|2015|   8|   40|                  LX|        SUV|           0|5xyktca66fg561407|    1|      5.0| 14634.0|silver|   black|kia motors americ...|20600.0|     21500.0|Tue Dec 16 2014 1...|\n",
      "|2015|   2|    0|               2.5 S|      Sedan|           0|1n4al3ap5fc124223|    1|      2.0| 11398.0| black|   black|enterprise vehicl...|14750.0|     14100.0|Tue Dec 23 2014 1...|\n",
      "|2014|  19|  200|2.0T Premium Plus...|        SUV|           0|wa1lfafpxea085074|    1|     49.0|  7983.0| white|   black|audi north scotts...|37100.0|     40000.0|Thu Dec 18 2014 1...|\n",
      "|2014|   1|   64|                  LS|      Coupe|           0|2g1fa1e39e9134494|    1|     17.0| 13441.0| black|   black|wells fargo deale...|17750.0|     17000.0|Tue Dec 30 2014 1...|\n",
      "|2014|   7|  155|                650i|Convertible|           0|wbayp9c53ed169260|    1|     34.0|  8819.0| black|   black|the hertz corpora...|68000.0|     67200.0|Wed Dec 17 2014 1...|\n",
      "|2015|   1|    7|                 LTZ|      Sedan|           0|2g1165s30f9103921|    1|     19.0| 14538.0|silver|   black|enterprise vehicl...|24300.0|      7200.0|Tue Jul 07 2015 0...|\n",
      "|2014|   7|   34|                528i|      Sedan|           0|wba5a5c51ed501631|    1|     29.0| 25969.0| black|   black|financial service...|34200.0|     30000.0|Tue Feb 03 2015 0...|\n",
      "+----+----+-----+--------------------+-----------+------------+-----------------+-----+---------+--------+------+--------+--------------------+-------+------------+--------------------+\n",
      "only showing top 20 rows\n",
      "\n"
     ]
    }
   ],
   "source": [
    "# 处理transmission\n",
    "stringIndexer = StringIndexer(inputCol=\"transmission\", outputCol=\"transmission_index\")\n",
    "indexedData = stringIndexer.fit(data).transform(data)\n",
    "indexedData = indexedData.withColumn(\"transmission_index\", col(\"transmission_index\").cast(IntegerType()))\n",
    "indexedData = indexedData.withColumn(\"transmission\", col(\"transmission_index\")).drop(\"transmission_index\")\n",
    "\n",
    "data = indexedData\n",
    "data.show()"
   ]
  },
  {
   "cell_type": "code",
   "execution_count": 276,
   "metadata": {},
   "outputs": [
    {
     "name": "stdout",
     "output_type": "stream",
     "text": [
      "+----+----+-----+----+-----------+------------+-----------------+-----+---------+--------+------+--------+--------------------+-------+------------+--------------------+\n",
      "|year|make|model|trim|       body|transmission|              vin|state|condition|odometer| color|interior|              seller|    mmr|sellingprice|            saledate|\n",
      "+----+----+-----+----+-----------+------------+-----------------+-----+---------+--------+------+--------+--------------------+-------+------------+--------------------+\n",
      "|2015|   8|   40|   2|        SUV|           0|5xyktca69fg566472|    1|      5.0| 16639.0| white|   black|kia motors americ...|20500.0|     21500.0|Tue Dec 16 2014 1...|\n",
      "|2015|   8|   40|   2|        SUV|           0|5xyktca69fg561319|    1|      5.0|  9393.0| white|   beige|kia motors americ...|20800.0|     21500.0|Tue Dec 16 2014 1...|\n",
      "|2014|   7|    8| 636|      Sedan|           0|wba3c1c51ek116351|    1|     45.0|  1331.0|  gray|   black|financial service...|31900.0|     30000.0|Thu Jan 15 2015 0...|\n",
      "|2015|  26|  127|  91|      Sedan|           0|yv1612tb4f1310987|    1|     41.0| 14282.0| white|   black|volvo na rep/worl...|27500.0|     27750.0|Thu Jan 29 2015 0...|\n",
      "|2014|   7|  398| 139|      Sedan|           0|wba6b2c57ed129731|    1|     43.0|  2641.0|  gray|   black|financial service...|66000.0|     67000.0|Thu Dec 18 2014 1...|\n",
      "|2015|   2|    0|  12|      Sedan|           0|1n4al3ap1fn326013|    1|      1.0|  5554.0|  gray|   black|enterprise vehicl...|15350.0|     10900.0|Tue Dec 30 2014 1...|\n",
      "|2014|   7|  406|   0|      Sedan|           0|wbsfv9c51ed593089|    1|     34.0| 14943.0| black|   black|the hertz corpora...|69000.0|     65000.0|Wed Dec 17 2014 1...|\n",
      "|2014|   1|   18|  31|      Sedan|           0|1g1pc5sb2e7128460|    1|      2.0| 28617.0| black|   black|enterprise vehicl...|11900.0|      9800.0|Tue Dec 16 2014 1...|\n",
      "|2014|  19|   61| 205|      Sedan|           0|wauffafl3en030343|    1|     42.0|  9557.0| white|   black|  audi mission viejo|32100.0|     32250.0|Thu Dec 18 2014 1...|\n",
      "|2014|   1|   64|   4|Convertible|           0|2g1fb3d37e9218789|    1|      3.0|  4809.0|   red|   black|  d/m auto sales inc|26300.0|     17500.0|Tue Jan 20 2015 0...|\n",
      "|2014|  19|  150| 726|      Sedan|           0|wauhgafc0en062916|    1|     48.0| 14414.0| black|   black|   desert auto trade|47300.0|     49750.0|Tue Dec 16 2014 1...|\n",
      "|2015|   8|   31|   2|      Sedan|           0|5xxgm4a73fg353538|    1|     48.0|  2034.0|   red|     tan|  kia motors finance|15150.0|     17700.0|Tue Dec 16 2014 1...|\n",
      "|2015|   0|    1|   1|      Sedan|           0|3fa6p0hdxfr145753|    1|      2.0|  5559.0| white|   beige|enterprise vehicl...|15350.0|     12000.0|Tue Jan 13 2015 1...|\n",
      "|2015|   8|   40|   2|        SUV|           0|5xyktca66fg561407|    1|      5.0| 14634.0|silver|   black|kia motors americ...|20600.0|     21500.0|Tue Dec 16 2014 1...|\n",
      "|2015|   2|    0|  12|      Sedan|           0|1n4al3ap5fc124223|    1|      2.0| 11398.0| black|   black|enterprise vehicl...|14750.0|     14100.0|Tue Dec 23 2014 1...|\n",
      "|2014|  19|  200| 205|        SUV|           0|wa1lfafpxea085074|    1|     49.0|  7983.0| white|   black|audi north scotts...|37100.0|     40000.0|Thu Dec 18 2014 1...|\n",
      "|2014|   1|   64|   6|      Coupe|           0|2g1fa1e39e9134494|    1|     17.0| 13441.0| black|   black|wells fargo deale...|17750.0|     17000.0|Tue Dec 30 2014 1...|\n",
      "|2014|   7|  155| 139|Convertible|           0|wbayp9c53ed169260|    1|     34.0|  8819.0| black|   black|the hertz corpora...|68000.0|     67200.0|Wed Dec 17 2014 1...|\n",
      "|2015|   1|    7|  19|      Sedan|           0|2g1165s30f9103921|    1|     19.0| 14538.0|silver|   black|enterprise vehicl...|24300.0|      7200.0|Tue Jul 07 2015 0...|\n",
      "|2014|   7|   34|  68|      Sedan|           0|wba5a5c51ed501631|    1|     29.0| 25969.0| black|   black|financial service...|34200.0|     30000.0|Tue Feb 03 2015 0...|\n",
      "+----+----+-----+----+-----------+------------+-----------------+-----+---------+--------+------+--------+--------------------+-------+------------+--------------------+\n",
      "only showing top 20 rows\n",
      "\n"
     ]
    }
   ],
   "source": [
    "# 处理trim\n",
    "stringIndexer = StringIndexer(inputCol=\"trim\", outputCol=\"trim_index\")\n",
    "indexedData = stringIndexer.fit(data).transform(data)\n",
    "indexedData = indexedData.withColumn(\"trim_index\", col(\"trim_index\").cast(IntegerType()))\n",
    "indexedData = indexedData.withColumn(\"trim\", col(\"trim_index\")).drop(\"trim_index\")\n",
    "\n",
    "data = indexedData\n",
    "data.show()"
   ]
  },
  {
   "cell_type": "code",
   "execution_count": 277,
   "metadata": {},
   "outputs": [
    {
     "name": "stdout",
     "output_type": "stream",
     "text": [
      "+----+----+-----+----+----+------------+-----------------+-----+---------+--------+------+--------+--------------------+-------+------------+--------------------+\n",
      "|year|make|model|trim|body|transmission|              vin|state|condition|odometer| color|interior|              seller|    mmr|sellingprice|            saledate|\n",
      "+----+----+-----+----+----+------------+-----------------+-----+---------+--------+------+--------+--------------------+-------+------------+--------------------+\n",
      "|2015|   8|   40|   2|   1|           0|5xyktca69fg566472|    1|      5.0| 16639.0| white|   black|kia motors americ...|20500.0|     21500.0|Tue Dec 16 2014 1...|\n",
      "|2015|   8|   40|   2|   1|           0|5xyktca69fg561319|    1|      5.0|  9393.0| white|   beige|kia motors americ...|20800.0|     21500.0|Tue Dec 16 2014 1...|\n",
      "|2014|   7|    8| 636|   0|           0|wba3c1c51ek116351|    1|     45.0|  1331.0|  gray|   black|financial service...|31900.0|     30000.0|Thu Jan 15 2015 0...|\n",
      "|2015|  26|  127|  91|   0|           0|yv1612tb4f1310987|    1|     41.0| 14282.0| white|   black|volvo na rep/worl...|27500.0|     27750.0|Thu Jan 29 2015 0...|\n",
      "|2014|   7|  398| 139|   0|           0|wba6b2c57ed129731|    1|     43.0|  2641.0|  gray|   black|financial service...|66000.0|     67000.0|Thu Dec 18 2014 1...|\n",
      "|2015|   2|    0|  12|   0|           0|1n4al3ap1fn326013|    1|      1.0|  5554.0|  gray|   black|enterprise vehicl...|15350.0|     10900.0|Tue Dec 30 2014 1...|\n",
      "|2014|   7|  406|   0|   0|           0|wbsfv9c51ed593089|    1|     34.0| 14943.0| black|   black|the hertz corpora...|69000.0|     65000.0|Wed Dec 17 2014 1...|\n",
      "|2014|   1|   18|  31|   0|           0|1g1pc5sb2e7128460|    1|      2.0| 28617.0| black|   black|enterprise vehicl...|11900.0|      9800.0|Tue Dec 16 2014 1...|\n",
      "|2014|  19|   61| 205|   0|           0|wauffafl3en030343|    1|     42.0|  9557.0| white|   black|  audi mission viejo|32100.0|     32250.0|Thu Dec 18 2014 1...|\n",
      "|2014|   1|   64|   4|   9|           0|2g1fb3d37e9218789|    1|      3.0|  4809.0|   red|   black|  d/m auto sales inc|26300.0|     17500.0|Tue Jan 20 2015 0...|\n",
      "|2014|  19|  150| 726|   0|           0|wauhgafc0en062916|    1|     48.0| 14414.0| black|   black|   desert auto trade|47300.0|     49750.0|Tue Dec 16 2014 1...|\n",
      "|2015|   8|   31|   2|   0|           0|5xxgm4a73fg353538|    1|     48.0|  2034.0|   red|     tan|  kia motors finance|15150.0|     17700.0|Tue Dec 16 2014 1...|\n",
      "|2015|   0|    1|   1|   0|           0|3fa6p0hdxfr145753|    1|      2.0|  5559.0| white|   beige|enterprise vehicl...|15350.0|     12000.0|Tue Jan 13 2015 1...|\n",
      "|2015|   8|   40|   2|   1|           0|5xyktca66fg561407|    1|      5.0| 14634.0|silver|   black|kia motors americ...|20600.0|     21500.0|Tue Dec 16 2014 1...|\n",
      "|2015|   2|    0|  12|   0|           0|1n4al3ap5fc124223|    1|      2.0| 11398.0| black|   black|enterprise vehicl...|14750.0|     14100.0|Tue Dec 23 2014 1...|\n",
      "|2014|  19|  200| 205|   1|           0|wa1lfafpxea085074|    1|     49.0|  7983.0| white|   black|audi north scotts...|37100.0|     40000.0|Thu Dec 18 2014 1...|\n",
      "|2014|   1|   64|   6|   6|           0|2g1fa1e39e9134494|    1|     17.0| 13441.0| black|   black|wells fargo deale...|17750.0|     17000.0|Tue Dec 30 2014 1...|\n",
      "|2014|   7|  155| 139|   9|           0|wbayp9c53ed169260|    1|     34.0|  8819.0| black|   black|the hertz corpora...|68000.0|     67200.0|Wed Dec 17 2014 1...|\n",
      "|2015|   1|    7|  19|   0|           0|2g1165s30f9103921|    1|     19.0| 14538.0|silver|   black|enterprise vehicl...|24300.0|      7200.0|Tue Jul 07 2015 0...|\n",
      "|2014|   7|   34|  68|   0|           0|wba5a5c51ed501631|    1|     29.0| 25969.0| black|   black|financial service...|34200.0|     30000.0|Tue Feb 03 2015 0...|\n",
      "+----+----+-----+----+----+------------+-----------------+-----+---------+--------+------+--------+--------------------+-------+------------+--------------------+\n",
      "only showing top 20 rows\n",
      "\n"
     ]
    }
   ],
   "source": [
    "# 处理body\n",
    "stringIndexer = StringIndexer(inputCol=\"body\", outputCol=\"body_index\")\n",
    "indexedData = stringIndexer.fit(data).transform(data)\n",
    "indexedData = indexedData.withColumn(\"body_index\", col(\"body_index\").cast(IntegerType()))\n",
    "indexedData = indexedData.withColumn(\"body\", col(\"body_index\")).drop(\"body_index\")\n",
    "\n",
    "data = indexedData\n",
    "data.show()"
   ]
  },
  {
   "cell_type": "code",
   "execution_count": 278,
   "metadata": {},
   "outputs": [
    {
     "name": "stdout",
     "output_type": "stream",
     "text": [
      "+----+----+-----+----+----+------------+-----------------+-----+---------+--------+-----+--------+--------------------+-------+------------+--------------------+\n",
      "|year|make|model|trim|body|transmission|              vin|state|condition|odometer|color|interior|              seller|    mmr|sellingprice|            saledate|\n",
      "+----+----+-----+----+----+------------+-----------------+-----+---------+--------+-----+--------+--------------------+-------+------------+--------------------+\n",
      "|2015|   8|   40|   2|   1|           0|5xyktca69fg566472|    1|      5.0| 16639.0|    1|   black|kia motors americ...|20500.0|     21500.0|Tue Dec 16 2014 1...|\n",
      "|2015|   8|   40|   2|   1|           0|5xyktca69fg561319|    1|      5.0|  9393.0|    1|   beige|kia motors americ...|20800.0|     21500.0|Tue Dec 16 2014 1...|\n",
      "|2014|   7|    8| 636|   0|           0|wba3c1c51ek116351|    1|     45.0|  1331.0|    3|   black|financial service...|31900.0|     30000.0|Thu Jan 15 2015 0...|\n",
      "|2015|  26|  127|  91|   0|           0|yv1612tb4f1310987|    1|     41.0| 14282.0|    1|   black|volvo na rep/worl...|27500.0|     27750.0|Thu Jan 29 2015 0...|\n",
      "|2014|   7|  398| 139|   0|           0|wba6b2c57ed129731|    1|     43.0|  2641.0|    3|   black|financial service...|66000.0|     67000.0|Thu Dec 18 2014 1...|\n",
      "|2015|   2|    0|  12|   0|           0|1n4al3ap1fn326013|    1|      1.0|  5554.0|    3|   black|enterprise vehicl...|15350.0|     10900.0|Tue Dec 30 2014 1...|\n",
      "|2014|   7|  406|   0|   0|           0|wbsfv9c51ed593089|    1|     34.0| 14943.0|    0|   black|the hertz corpora...|69000.0|     65000.0|Wed Dec 17 2014 1...|\n",
      "|2014|   1|   18|  31|   0|           0|1g1pc5sb2e7128460|    1|      2.0| 28617.0|    0|   black|enterprise vehicl...|11900.0|      9800.0|Tue Dec 16 2014 1...|\n",
      "|2014|  19|   61| 205|   0|           0|wauffafl3en030343|    1|     42.0|  9557.0|    1|   black|  audi mission viejo|32100.0|     32250.0|Thu Dec 18 2014 1...|\n",
      "|2014|   1|   64|   4|   9|           0|2g1fb3d37e9218789|    1|      3.0|  4809.0|    5|   black|  d/m auto sales inc|26300.0|     17500.0|Tue Jan 20 2015 0...|\n",
      "|2014|  19|  150| 726|   0|           0|wauhgafc0en062916|    1|     48.0| 14414.0|    0|   black|   desert auto trade|47300.0|     49750.0|Tue Dec 16 2014 1...|\n",
      "|2015|   8|   31|   2|   0|           0|5xxgm4a73fg353538|    1|     48.0|  2034.0|    5|     tan|  kia motors finance|15150.0|     17700.0|Tue Dec 16 2014 1...|\n",
      "|2015|   0|    1|   1|   0|           0|3fa6p0hdxfr145753|    1|      2.0|  5559.0|    1|   beige|enterprise vehicl...|15350.0|     12000.0|Tue Jan 13 2015 1...|\n",
      "|2015|   8|   40|   2|   1|           0|5xyktca66fg561407|    1|      5.0| 14634.0|    2|   black|kia motors americ...|20600.0|     21500.0|Tue Dec 16 2014 1...|\n",
      "|2015|   2|    0|  12|   0|           0|1n4al3ap5fc124223|    1|      2.0| 11398.0|    0|   black|enterprise vehicl...|14750.0|     14100.0|Tue Dec 23 2014 1...|\n",
      "|2014|  19|  200| 205|   1|           0|wa1lfafpxea085074|    1|     49.0|  7983.0|    1|   black|audi north scotts...|37100.0|     40000.0|Thu Dec 18 2014 1...|\n",
      "|2014|   1|   64|   6|   6|           0|2g1fa1e39e9134494|    1|     17.0| 13441.0|    0|   black|wells fargo deale...|17750.0|     17000.0|Tue Dec 30 2014 1...|\n",
      "|2014|   7|  155| 139|   9|           0|wbayp9c53ed169260|    1|     34.0|  8819.0|    0|   black|the hertz corpora...|68000.0|     67200.0|Wed Dec 17 2014 1...|\n",
      "|2015|   1|    7|  19|   0|           0|2g1165s30f9103921|    1|     19.0| 14538.0|    2|   black|enterprise vehicl...|24300.0|      7200.0|Tue Jul 07 2015 0...|\n",
      "|2014|   7|   34|  68|   0|           0|wba5a5c51ed501631|    1|     29.0| 25969.0|    0|   black|financial service...|34200.0|     30000.0|Tue Feb 03 2015 0...|\n",
      "+----+----+-----+----+----+------------+-----------------+-----+---------+--------+-----+--------+--------------------+-------+------------+--------------------+\n",
      "only showing top 20 rows\n",
      "\n"
     ]
    }
   ],
   "source": [
    "# 处理color\n",
    "stringIndexer = StringIndexer(inputCol=\"color\", outputCol=\"color_index\")\n",
    "indexedData = stringIndexer.fit(data).transform(data)\n",
    "indexedData = indexedData.withColumn(\"color_index\", col(\"color_index\").cast(IntegerType()))\n",
    "indexedData = indexedData.withColumn(\"color\", col(\"color_index\")).drop(\"color_index\")\n",
    "\n",
    "data = indexedData\n",
    "data.show()"
   ]
  },
  {
   "cell_type": "code",
   "execution_count": 279,
   "metadata": {},
   "outputs": [
    {
     "name": "stdout",
     "output_type": "stream",
     "text": [
      "+----+----+-----+----+----+------------+-----------------+-----+---------+--------+-----+--------+--------------------+-------+------------+--------------------+\n",
      "|year|make|model|trim|body|transmission|              vin|state|condition|odometer|color|interior|              seller|    mmr|sellingprice|            saledate|\n",
      "+----+----+-----+----+----+------------+-----------------+-----+---------+--------+-----+--------+--------------------+-------+------------+--------------------+\n",
      "|2015|   8|   40|   2|   1|           0|5xyktca69fg566472|    1|      5.0| 16639.0|    1|       0|kia motors americ...|20500.0|     21500.0|Tue Dec 16 2014 1...|\n",
      "|2015|   8|   40|   2|   1|           0|5xyktca69fg561319|    1|      5.0|  9393.0|    1|       2|kia motors americ...|20800.0|     21500.0|Tue Dec 16 2014 1...|\n",
      "|2014|   7|    8| 636|   0|           0|wba3c1c51ek116351|    1|     45.0|  1331.0|    3|       0|financial service...|31900.0|     30000.0|Thu Jan 15 2015 0...|\n",
      "|2015|  26|  127|  91|   0|           0|yv1612tb4f1310987|    1|     41.0| 14282.0|    1|       0|volvo na rep/worl...|27500.0|     27750.0|Thu Jan 29 2015 0...|\n",
      "|2014|   7|  398| 139|   0|           0|wba6b2c57ed129731|    1|     43.0|  2641.0|    3|       0|financial service...|66000.0|     67000.0|Thu Dec 18 2014 1...|\n",
      "|2015|   2|    0|  12|   0|           0|1n4al3ap1fn326013|    1|      1.0|  5554.0|    3|       0|enterprise vehicl...|15350.0|     10900.0|Tue Dec 30 2014 1...|\n",
      "|2014|   7|  406|   0|   0|           0|wbsfv9c51ed593089|    1|     34.0| 14943.0|    0|       0|the hertz corpora...|69000.0|     65000.0|Wed Dec 17 2014 1...|\n",
      "|2014|   1|   18|  31|   0|           0|1g1pc5sb2e7128460|    1|      2.0| 28617.0|    0|       0|enterprise vehicl...|11900.0|      9800.0|Tue Dec 16 2014 1...|\n",
      "|2014|  19|   61| 205|   0|           0|wauffafl3en030343|    1|     42.0|  9557.0|    1|       0|  audi mission viejo|32100.0|     32250.0|Thu Dec 18 2014 1...|\n",
      "|2014|   1|   64|   4|   9|           0|2g1fb3d37e9218789|    1|      3.0|  4809.0|    5|       0|  d/m auto sales inc|26300.0|     17500.0|Tue Jan 20 2015 0...|\n",
      "|2014|  19|  150| 726|   0|           0|wauhgafc0en062916|    1|     48.0| 14414.0|    0|       0|   desert auto trade|47300.0|     49750.0|Tue Dec 16 2014 1...|\n",
      "|2015|   8|   31|   2|   0|           0|5xxgm4a73fg353538|    1|     48.0|  2034.0|    5|       3|  kia motors finance|15150.0|     17700.0|Tue Dec 16 2014 1...|\n",
      "|2015|   0|    1|   1|   0|           0|3fa6p0hdxfr145753|    1|      2.0|  5559.0|    1|       2|enterprise vehicl...|15350.0|     12000.0|Tue Jan 13 2015 1...|\n",
      "|2015|   8|   40|   2|   1|           0|5xyktca66fg561407|    1|      5.0| 14634.0|    2|       0|kia motors americ...|20600.0|     21500.0|Tue Dec 16 2014 1...|\n",
      "|2015|   2|    0|  12|   0|           0|1n4al3ap5fc124223|    1|      2.0| 11398.0|    0|       0|enterprise vehicl...|14750.0|     14100.0|Tue Dec 23 2014 1...|\n",
      "|2014|  19|  200| 205|   1|           0|wa1lfafpxea085074|    1|     49.0|  7983.0|    1|       0|audi north scotts...|37100.0|     40000.0|Thu Dec 18 2014 1...|\n",
      "|2014|   1|   64|   6|   6|           0|2g1fa1e39e9134494|    1|     17.0| 13441.0|    0|       0|wells fargo deale...|17750.0|     17000.0|Tue Dec 30 2014 1...|\n",
      "|2014|   7|  155| 139|   9|           0|wbayp9c53ed169260|    1|     34.0|  8819.0|    0|       0|the hertz corpora...|68000.0|     67200.0|Wed Dec 17 2014 1...|\n",
      "|2015|   1|    7|  19|   0|           0|2g1165s30f9103921|    1|     19.0| 14538.0|    2|       0|enterprise vehicl...|24300.0|      7200.0|Tue Jul 07 2015 0...|\n",
      "|2014|   7|   34|  68|   0|           0|wba5a5c51ed501631|    1|     29.0| 25969.0|    0|       0|financial service...|34200.0|     30000.0|Tue Feb 03 2015 0...|\n",
      "+----+----+-----+----+----+------------+-----------------+-----+---------+--------+-----+--------+--------------------+-------+------------+--------------------+\n",
      "only showing top 20 rows\n",
      "\n"
     ]
    }
   ],
   "source": [
    "# 处理interior\n",
    "stringIndexer = StringIndexer(inputCol=\"interior\", outputCol=\"interior_index\")\n",
    "indexedData = stringIndexer.fit(data).transform(data)\n",
    "indexedData = indexedData.withColumn(\"interior_index\", col(\"interior_index\").cast(IntegerType()))\n",
    "indexedData = indexedData.withColumn(\"interior\", col(\"interior_index\")).drop(\"interior_index\")\n",
    "\n",
    "data = indexedData\n",
    "data.show()"
   ]
  },
  {
   "cell_type": "code",
   "execution_count": 280,
   "metadata": {},
   "outputs": [
    {
     "name": "stdout",
     "output_type": "stream",
     "text": [
      "+----+----+-----+----+----+------------+-----------------+-----+---------+--------+-----+--------+------+-------+------------+--------------------+\n",
      "|year|make|model|trim|body|transmission|              vin|state|condition|odometer|color|interior|seller|    mmr|sellingprice|            saledate|\n",
      "+----+----+-----+----+----+------------+-----------------+-----+---------+--------+-----+--------+------+-------+------------+--------------------+\n",
      "|2015|   8|   40|   2|   1|           0|5xyktca69fg566472|    1|      5.0| 16639.0|    1|       0|    23|20500.0|     21500.0|Tue Dec 16 2014 1...|\n",
      "|2015|   8|   40|   2|   1|           0|5xyktca69fg561319|    1|      5.0|  9393.0|    1|       2|    23|20800.0|     21500.0|Tue Dec 16 2014 1...|\n",
      "|2014|   7|    8| 636|   0|           0|wba3c1c51ek116351|    1|     45.0|  1331.0|    3|       0|    14|31900.0|     30000.0|Thu Jan 15 2015 0...|\n",
      "|2015|  26|  127|  91|   0|           0|yv1612tb4f1310987|    1|     41.0| 14282.0|    1|       0|   123|27500.0|     27750.0|Thu Jan 29 2015 0...|\n",
      "|2014|   7|  398| 139|   0|           0|wba6b2c57ed129731|    1|     43.0|  2641.0|    3|       0|    14|66000.0|     67000.0|Thu Dec 18 2014 1...|\n",
      "|2015|   2|    0|  12|   0|           0|1n4al3ap1fn326013|    1|      1.0|  5554.0|    3|       0|    34|15350.0|     10900.0|Tue Dec 30 2014 1...|\n",
      "|2014|   7|  406|   0|   0|           0|wbsfv9c51ed593089|    1|     34.0| 14943.0|    0|       0|     1|69000.0|     65000.0|Wed Dec 17 2014 1...|\n",
      "|2014|   1|   18|  31|   0|           0|1g1pc5sb2e7128460|    1|      2.0| 28617.0|    0|       0|    34|11900.0|      9800.0|Tue Dec 16 2014 1...|\n",
      "|2014|  19|   61| 205|   0|           0|wauffafl3en030343|    1|     42.0|  9557.0|    1|       0|  2950|32100.0|     32250.0|Thu Dec 18 2014 1...|\n",
      "|2014|   1|   64|   4|   9|           0|2g1fb3d37e9218789|    1|      3.0|  4809.0|    5|       0|  8895|26300.0|     17500.0|Tue Jan 20 2015 0...|\n",
      "|2014|  19|  150| 726|   0|           0|wauhgafc0en062916|    1|     48.0| 14414.0|    0|       0|   404|47300.0|     49750.0|Tue Dec 16 2014 1...|\n",
      "|2015|   8|   31|   2|   0|           0|5xxgm4a73fg353538|    1|     48.0|  2034.0|    5|       3|    43|15150.0|     17700.0|Tue Dec 16 2014 1...|\n",
      "|2015|   0|    1|   1|   0|           0|3fa6p0hdxfr145753|    1|      2.0|  5559.0|    1|       2|    34|15350.0|     12000.0|Tue Jan 13 2015 1...|\n",
      "|2015|   8|   40|   2|   1|           0|5xyktca66fg561407|    1|      5.0| 14634.0|    2|       0|    23|20600.0|     21500.0|Tue Dec 16 2014 1...|\n",
      "|2015|   2|    0|  12|   0|           0|1n4al3ap5fc124223|    1|      2.0| 11398.0|    0|       0|    34|14750.0|     14100.0|Tue Dec 23 2014 1...|\n",
      "|2014|  19|  200| 205|   1|           0|wa1lfafpxea085074|    1|     49.0|  7983.0|    1|       0|  1151|37100.0|     40000.0|Thu Dec 18 2014 1...|\n",
      "|2014|   1|   64|   6|   6|           0|2g1fa1e39e9134494|    1|     17.0| 13441.0|    0|       0|     6|17750.0|     17000.0|Tue Dec 30 2014 1...|\n",
      "|2014|   7|  155| 139|   9|           0|wbayp9c53ed169260|    1|     34.0|  8819.0|    0|       0|     1|68000.0|     67200.0|Wed Dec 17 2014 1...|\n",
      "|2015|   1|    7|  19|   0|           0|2g1165s30f9103921|    1|     19.0| 14538.0|    2|       0|    34|24300.0|      7200.0|Tue Jul 07 2015 0...|\n",
      "|2014|   7|   34|  68|   0|           0|wba5a5c51ed501631|    1|     29.0| 25969.0|    0|       0|    14|34200.0|     30000.0|Tue Feb 03 2015 0...|\n",
      "+----+----+-----+----+----+------------+-----------------+-----+---------+--------+-----+--------+------+-------+------------+--------------------+\n",
      "only showing top 20 rows\n",
      "\n"
     ]
    }
   ],
   "source": [
    "# 处理seller\n",
    "stringIndexer = StringIndexer(inputCol=\"seller\", outputCol=\"seller_index\")\n",
    "indexedData = stringIndexer.fit(data).transform(data)\n",
    "indexedData = indexedData.withColumn(\"seller_index\", col(\"seller_index\").cast(IntegerType()))\n",
    "indexedData = indexedData.withColumn(\"seller\", col(\"seller_index\")).drop(\"seller_index\")\n",
    "\n",
    "data = indexedData\n",
    "data.show()"
   ]
  },
  {
   "cell_type": "code",
   "execution_count": 281,
   "metadata": {},
   "outputs": [
    {
     "name": "stdout",
     "output_type": "stream",
     "text": [
      "Tue Dec 16 2014 12:30:00 GMT-0800 (PST)\n",
      "Tue Dec 16 2014 12:30:00 GMT-0800 (PST)\n",
      "Thu Jan 15 2015 04:30:00 GMT-0800 (PST)\n",
      "Thu Jan 29 2015 04:30:00 GMT-0800 (PST)\n",
      "Thu Dec 18 2014 12:30:00 GMT-0800 (PST)\n",
      "Tue Dec 30 2014 12:00:00 GMT-0800 (PST)\n",
      "Wed Dec 17 2014 12:30:00 GMT-0800 (PST)\n",
      "Tue Dec 16 2014 13:00:00 GMT-0800 (PST)\n",
      "Thu Dec 18 2014 12:00:00 GMT-0800 (PST)\n",
      "Tue Jan 20 2015 04:00:00 GMT-0800 (PST)\n"
     ]
    }
   ],
   "source": [
    "# 显示\"saledate\"列的前10条数据\n",
    "saledate_data = data.select(\"saledate\").head(10)\n",
    "\n",
    "# 打印前10条数据\n",
    "for row in saledate_data:\n",
    "    print(row.saledate)\n",
    "\n",
    "from pyspark.sql.functions import substring, unix_timestamp\n"
   ]
  },
  {
   "cell_type": "code",
   "execution_count": 282,
   "metadata": {},
   "outputs": [
    {
     "name": "stdout",
     "output_type": "stream",
     "text": [
      "+----+----+-----+----+----+------------+-----+---------+--------+-----+--------+------+-------+------------+----------+\n",
      "|year|make|model|trim|body|transmission|state|condition|odometer|color|interior|seller|    mmr|sellingprice| timestamp|\n",
      "+----+----+-----+----+----+------------+-----+---------+--------+-----+--------+------+-------+------------+----------+\n",
      "|2015|   8|   40|   2|   1|           0|    1|      5.0| 16639.0|    1|       0|    23|20500.0|     21500.0|1418704200|\n",
      "|2015|   8|   40|   2|   1|           0|    1|      5.0|  9393.0|    1|       2|    23|20800.0|     21500.0|1418704200|\n",
      "|2014|   7|    8| 636|   0|           0|    1|     45.0|  1331.0|    3|       0|    14|31900.0|     30000.0|1421267400|\n",
      "|2015|  26|  127|  91|   0|           0|    1|     41.0| 14282.0|    1|       0|   123|27500.0|     27750.0|1422477000|\n",
      "|2014|   7|  398| 139|   0|           0|    1|     43.0|  2641.0|    3|       0|    14|66000.0|     67000.0|1418877000|\n",
      "|2015|   2|    0|  12|   0|           0|    1|      1.0|  5554.0|    3|       0|    34|15350.0|     10900.0|1419912000|\n",
      "|2014|   7|  406|   0|   0|           0|    1|     34.0| 14943.0|    0|       0|     1|69000.0|     65000.0|1418790600|\n",
      "|2014|   1|   18|  31|   0|           0|    1|      2.0| 28617.0|    0|       0|    34|11900.0|      9800.0|1418706000|\n",
      "|2014|  19|   61| 205|   0|           0|    1|     42.0|  9557.0|    1|       0|  2950|32100.0|     32250.0|1418875200|\n",
      "|2014|   1|   64|   4|   9|           0|    1|      3.0|  4809.0|    5|       0|  8895|26300.0|     17500.0|1421697600|\n",
      "|2014|  19|  150| 726|   0|           0|    1|     48.0| 14414.0|    0|       0|   404|47300.0|     49750.0|1418704200|\n",
      "|2015|   8|   31|   2|   0|           0|    1|     48.0|  2034.0|    5|       3|    43|15150.0|     17700.0|1418702400|\n",
      "|2015|   0|    1|   1|   0|           0|    1|      2.0|  5559.0|    1|       2|    34|15350.0|     12000.0|1421121600|\n",
      "|2015|   8|   40|   2|   1|           0|    1|      5.0| 14634.0|    2|       0|    23|20600.0|     21500.0|1418704200|\n",
      "|2015|   2|    0|  12|   0|           0|    1|      2.0| 11398.0|    0|       0|    34|14750.0|     14100.0|1419307200|\n",
      "|2014|  19|  200| 205|   1|           0|    1|     49.0|  7983.0|    1|       0|  1151|37100.0|     40000.0|1418877000|\n",
      "|2014|   1|   64|   6|   6|           0|    1|     17.0| 13441.0|    0|       0|     6|17750.0|     17000.0|1419922800|\n",
      "|2014|   7|  155| 139|   9|           0|    1|     34.0|  8819.0|    0|       0|     1|68000.0|     67200.0|1418790600|\n",
      "|2015|   1|    7|  19|   0|           0|    1|     19.0| 14538.0|    2|       0|    34|24300.0|      7200.0|1436232600|\n",
      "|2014|   7|   34|  68|   0|           0|    1|     29.0| 25969.0|    0|       0|    14|34200.0|     30000.0|1422909000|\n",
      "+----+----+-----+----+----+------------+-----+---------+--------+-----+--------+------+-------+------------+----------+\n",
      "only showing top 20 rows\n",
      "\n"
     ]
    }
   ],
   "source": [
    "from pyspark.sql.functions import substring, unix_timestamp\n",
    "\n",
    "# 将\"timestamp_string\"列转换为Unix时间戳\n",
    "data = data.withColumn(\"timestamp_string\", substring(\"saledate\", 5, 20))\n",
    "data = data.withColumn(\"timestamp\", unix_timestamp(\"timestamp_string\", \"MMM dd yyyy HH:mm:ss\"))\n",
    "\n",
    "data = data.drop('saledate')\n",
    "data = data.drop('timestamp_string')\n",
    "data = data.drop('vin')\n",
    "\n",
    "# 查看转换后的数据\n",
    "data.show()"
   ]
  },
  {
   "cell_type": "code",
   "execution_count": 283,
   "metadata": {},
   "outputs": [
    {
     "name": "stdout",
     "output_type": "stream",
     "text": [
      "+----+----+-----+----+----+------------+-----+---------+--------+-----+--------+------+-------+------------+---------+\n",
      "|year|make|model|trim|body|transmission|state|condition|odometer|color|interior|seller|    mmr|sellingprice|timestamp|\n",
      "+----+----+-----+----+----+------------+-----+---------+--------+-----+--------+------+-------+------------+---------+\n",
      "|2015|   8|   40|   2|   1|           0|    1|      5.0| 16639.0|    1|       0|    23|20500.0|     21500.0| 14187042|\n",
      "|2015|   8|   40|   2|   1|           0|    1|      5.0|  9393.0|    1|       2|    23|20800.0|     21500.0| 14187042|\n",
      "|2014|   7|    8| 636|   0|           0|    1|     45.0|  1331.0|    3|       0|    14|31900.0|     30000.0| 14212674|\n",
      "|2015|  26|  127|  91|   0|           0|    1|     41.0| 14282.0|    1|       0|   123|27500.0|     27750.0| 14224770|\n",
      "|2014|   7|  398| 139|   0|           0|    1|     43.0|  2641.0|    3|       0|    14|66000.0|     67000.0| 14188770|\n",
      "|2015|   2|    0|  12|   0|           0|    1|      1.0|  5554.0|    3|       0|    34|15350.0|     10900.0| 14199120|\n",
      "|2014|   7|  406|   0|   0|           0|    1|     34.0| 14943.0|    0|       0|     1|69000.0|     65000.0| 14187906|\n",
      "|2014|   1|   18|  31|   0|           0|    1|      2.0| 28617.0|    0|       0|    34|11900.0|      9800.0| 14187060|\n",
      "|2014|  19|   61| 205|   0|           0|    1|     42.0|  9557.0|    1|       0|  2950|32100.0|     32250.0| 14188752|\n",
      "|2014|   1|   64|   4|   9|           0|    1|      3.0|  4809.0|    5|       0|  8895|26300.0|     17500.0| 14216976|\n",
      "|2014|  19|  150| 726|   0|           0|    1|     48.0| 14414.0|    0|       0|   404|47300.0|     49750.0| 14187042|\n",
      "|2015|   8|   31|   2|   0|           0|    1|     48.0|  2034.0|    5|       3|    43|15150.0|     17700.0| 14187024|\n",
      "|2015|   0|    1|   1|   0|           0|    1|      2.0|  5559.0|    1|       2|    34|15350.0|     12000.0| 14211216|\n",
      "|2015|   8|   40|   2|   1|           0|    1|      5.0| 14634.0|    2|       0|    23|20600.0|     21500.0| 14187042|\n",
      "|2015|   2|    0|  12|   0|           0|    1|      2.0| 11398.0|    0|       0|    34|14750.0|     14100.0| 14193072|\n",
      "|2014|  19|  200| 205|   1|           0|    1|     49.0|  7983.0|    1|       0|  1151|37100.0|     40000.0| 14188770|\n",
      "|2014|   1|   64|   6|   6|           0|    1|     17.0| 13441.0|    0|       0|     6|17750.0|     17000.0| 14199228|\n",
      "|2014|   7|  155| 139|   9|           0|    1|     34.0|  8819.0|    0|       0|     1|68000.0|     67200.0| 14187906|\n",
      "|2015|   1|    7|  19|   0|           0|    1|     19.0| 14538.0|    2|       0|    34|24300.0|      7200.0| 14362326|\n",
      "|2014|   7|   34|  68|   0|           0|    1|     29.0| 25969.0|    0|       0|    14|34200.0|     30000.0| 14229090|\n",
      "+----+----+-----+----+----+------------+-----+---------+--------+-----+--------+------+-------+------------+---------+\n",
      "only showing top 20 rows\n",
      "\n"
     ]
    }
   ],
   "source": [
    "# 将\"timestamp\"列丢弃末两位\n",
    "data = data.withColumn(\"timestamp_str\", data[\"timestamp\"].cast(\"string\"))\n",
    "data = data.withColumn(\"timestamp_str_truncated\", substring(\"timestamp_str\", 0, 8))\n",
    "data = data.withColumn(\"timestamp_int\", data[\"timestamp_str_truncated\"].cast(\"integer\"))\n",
    "\n",
    "data = data.drop('timestamp_str')\n",
    "data = data.drop('timestamp_str_truncated')\n",
    "data = data.drop('timestamp')\n",
    "data = data.withColumnRenamed(\"timestamp_int\", \"timestamp\")\n",
    "\n",
    "\n",
    "data.show()"
   ]
  },
  {
   "cell_type": "code",
   "execution_count": 284,
   "metadata": {},
   "outputs": [
    {
     "name": "stdout",
     "output_type": "stream",
     "text": [
      "root\n",
      " |-- year: integer (nullable = true)\n",
      " |-- make: integer (nullable = true)\n",
      " |-- model: integer (nullable = true)\n",
      " |-- trim: integer (nullable = true)\n",
      " |-- body: integer (nullable = true)\n",
      " |-- transmission: integer (nullable = true)\n",
      " |-- state: integer (nullable = true)\n",
      " |-- condition: double (nullable = true)\n",
      " |-- odometer: double (nullable = true)\n",
      " |-- color: integer (nullable = true)\n",
      " |-- interior: integer (nullable = true)\n",
      " |-- seller: integer (nullable = true)\n",
      " |-- mmr: double (nullable = true)\n",
      " |-- sellingprice: double (nullable = true)\n",
      " |-- timestamp: integer (nullable = true)\n",
      "\n",
      "[('year', 'int'), ('make', 'int'), ('model', 'int'), ('trim', 'int'), ('body', 'int'), ('transmission', 'int'), ('state', 'int'), ('condition', 'double'), ('odometer', 'double'), ('color', 'int'), ('interior', 'int'), ('seller', 'int'), ('mmr', 'double'), ('sellingprice', 'double'), ('timestamp', 'int')]\n"
     ]
    }
   ],
   "source": [
    "data.printSchema()\n",
    "print(data.dtypes)"
   ]
  },
  {
   "cell_type": "code",
   "execution_count": 285,
   "metadata": {},
   "outputs": [],
   "source": [
    "# 1. 检查数据中是否存在 null 值\n",
    "null_cols = [col for col in data.columns if data.select(col).where(data[col].isNull()).count() > 0]\n",
    "if null_cols:\n",
    "    print(f\"Null values found in columns: {', '.join(null_cols)}\")"
   ]
  },
  {
   "cell_type": "code",
   "execution_count": 286,
   "metadata": {},
   "outputs": [
    {
     "data": {
      "text/plain": [
       "[Row(year=2015, make=8, model=40, trim=2, body=1, transmission=0, state=1, condition=5.0, odometer=16639.0, color=1, interior=0, seller=23, mmr=20500.0, sellingprice=21500.0, timestamp=14187042, features=DenseVector([2015.0, 8.0, 40.0, 2.0, 1.0, 0.0, 1.0, 5.0, 16639.0, 1.0, 0.0, 23.0, 20500.0, 14187042.0]))]"
      ]
     },
     "execution_count": 286,
     "metadata": {},
     "output_type": "execute_result"
    }
   ],
   "source": [
    "from pyspark.ml.linalg import Vectors\n",
    "from pyspark.ml.feature import VectorAssembler\n",
    "\n",
    "assembler = VectorAssembler(inputCols = ['year', 'make', 'model', 'trim','body', 'transmission', 'state', 'condition', 'odometer', 'color', 'interior', 'seller', 'mmr', 'timestamp'], outputCol = 'features')\n",
    "output = assembler.transform(data)\n",
    "output.take(1)"
   ]
  },
  {
   "cell_type": "code",
   "execution_count": 287,
   "metadata": {},
   "outputs": [
    {
     "name": "stdout",
     "output_type": "stream",
     "text": [
      "root\n",
      " |-- year: integer (nullable = true)\n",
      " |-- make: integer (nullable = true)\n",
      " |-- model: integer (nullable = true)\n",
      " |-- trim: integer (nullable = true)\n",
      " |-- body: integer (nullable = true)\n",
      " |-- transmission: integer (nullable = true)\n",
      " |-- state: integer (nullable = true)\n",
      " |-- condition: double (nullable = true)\n",
      " |-- odometer: double (nullable = true)\n",
      " |-- color: integer (nullable = true)\n",
      " |-- interior: integer (nullable = true)\n",
      " |-- seller: integer (nullable = true)\n",
      " |-- mmr: double (nullable = true)\n",
      " |-- sellingprice: double (nullable = true)\n",
      " |-- timestamp: integer (nullable = true)\n",
      " |-- features: vector (nullable = true)\n",
      "\n"
     ]
    }
   ],
   "source": [
    "output.printSchema()"
   ]
  },
  {
   "cell_type": "code",
   "execution_count": 288,
   "metadata": {},
   "outputs": [
    {
     "name": "stdout",
     "output_type": "stream",
     "text": [
      "+-------------------------------------------------------------------------------+------------+\n",
      "|features                                                                       |sellingprice|\n",
      "+-------------------------------------------------------------------------------+------------+\n",
      "|[2015.0,8.0,40.0,2.0,1.0,0.0,1.0,5.0,16639.0,1.0,0.0,23.0,20500.0,1.4187042E7] |21500.0     |\n",
      "|[2015.0,8.0,40.0,2.0,1.0,0.0,1.0,5.0,9393.0,1.0,2.0,23.0,20800.0,1.4187042E7]  |21500.0     |\n",
      "|[2014.0,7.0,8.0,636.0,0.0,0.0,1.0,45.0,1331.0,3.0,0.0,14.0,31900.0,1.4212674E7]|30000.0     |\n",
      "+-------------------------------------------------------------------------------+------------+\n",
      "only showing top 3 rows\n",
      "\n"
     ]
    }
   ],
   "source": [
    "final_data = output.select(['features', 'sellingprice'])\n",
    "final_data = final_data.dropna()\n",
    "final_data.show(3, truncate=False)"
   ]
  },
  {
   "cell_type": "code",
   "execution_count": 289,
   "metadata": {},
   "outputs": [
    {
     "name": "stdout",
     "output_type": "stream",
     "text": [
      "root\n",
      " |-- features: vector (nullable = true)\n",
      " |-- sellingprice: double (nullable = true)\n",
      "\n"
     ]
    }
   ],
   "source": [
    "final_data.printSchema()"
   ]
  },
  {
   "cell_type": "code",
   "execution_count": 290,
   "metadata": {},
   "outputs": [],
   "source": [
    "train, test = final_data.randomSplit([0.8,0.2])"
   ]
  },
  {
   "cell_type": "code",
   "execution_count": 291,
   "metadata": {},
   "outputs": [
    {
     "name": "stdout",
     "output_type": "stream",
     "text": [
      "24/04/18 23:32:04 WARN Instrumentation: [db219cd9] regParam is zero, which might cause numerical instability and overfitting.\n"
     ]
    },
    {
     "name": "stderr",
     "output_type": "stream",
     "text": [
      "                                                                                \r"
     ]
    },
    {
     "name": "stdout",
     "output_type": "stream",
     "text": [
      "24/04/18 23:32:06 WARN InstanceBuilder$NativeLAPACK: Failed to load implementation from:dev.ludovic.netlib.lapack.JNILAPACK\n"
     ]
    },
    {
     "name": "stderr",
     "output_type": "stream",
     "text": [
      "                                                                                \r"
     ]
    }
   ],
   "source": [
    "lr = LinearRegression(featuresCol='features',labelCol = 'sellingprice')\n",
    "lr_model = lr.fit(train)"
   ]
  },
  {
   "cell_type": "code",
   "execution_count": 292,
   "metadata": {},
   "outputs": [
    {
     "name": "stderr",
     "output_type": "stream",
     "text": [
      "/usr/local/lib/python3.9/site-packages/pyspark/sql/context.py:125: FutureWarning: Deprecated in 3.0.0. Use SparkSession.builder.getOrCreate() instead.\n",
      "  warnings.warn(\n"
     ]
    },
    {
     "name": "stdout",
     "output_type": "stream",
     "text": [
      "+-------------------+\n",
      "|          residuals|\n",
      "+-------------------+\n",
      "|  649.7156936336105|\n",
      "| -448.7918031239824|\n",
      "| -103.8415829329897|\n",
      "|-2213.6102735144523|\n",
      "|  592.5781652863079|\n",
      "|-210.76295282732463|\n",
      "| -1156.676953950111|\n",
      "|-1598.8941669862834|\n",
      "| 2491.8675940604444|\n",
      "|-1570.2115097727365|\n",
      "| -654.9342387894139|\n",
      "| 284.35505812345946|\n",
      "|   661.407095612245|\n",
      "|  681.9532207576412|\n",
      "|    1315.2593939207|\n",
      "|  37.65987456556468|\n",
      "|  579.9958578528021|\n",
      "| 240.50897955577238|\n",
      "| 317.71410721387656|\n",
      "| -666.5979251225071|\n",
      "+-------------------+\n",
      "only showing top 20 rows\n",
      "\n"
     ]
    }
   ],
   "source": [
    "test_result = lr_model.evaluate(test)\n",
    "test_result.residuals.show()"
   ]
  },
  {
   "cell_type": "code",
   "execution_count": 293,
   "metadata": {},
   "outputs": [
    {
     "data": {
      "text/plain": [
       "1630.70399003853"
      ]
     },
     "execution_count": 293,
     "metadata": {},
     "output_type": "execute_result"
    }
   ],
   "source": [
    "test_result.rootMeanSquaredError"
   ]
  },
  {
   "cell_type": "code",
   "execution_count": 294,
   "metadata": {},
   "outputs": [
    {
     "data": {
      "text/plain": [
       "0.9714209771385157"
      ]
     },
     "execution_count": 294,
     "metadata": {},
     "output_type": "execute_result"
    }
   ],
   "source": [
    "test_result.r2"
   ]
  },
  {
   "cell_type": "code",
   "execution_count": 295,
   "metadata": {},
   "outputs": [
    {
     "name": "stderr",
     "output_type": "stream",
     "text": [
      "[Stage 626:===>                                                   (1 + 15) / 16]\r"
     ]
    },
    {
     "name": "stdout",
     "output_type": "stream",
     "text": [
      "+-------+-----------------+\n",
      "|summary|     sellingprice|\n",
      "+-------+-----------------+\n",
      "|  count|           472325|\n",
      "|   mean|13690.51205843434|\n",
      "| stddev|9613.033737691603|\n",
      "|    min|              1.0|\n",
      "|    max|         230000.0|\n",
      "+-------+-----------------+\n",
      "\n"
     ]
    },
    {
     "name": "stderr",
     "output_type": "stream",
     "text": [
      "                                                                                \r"
     ]
    }
   ],
   "source": [
    "final_data.describe().show()"
   ]
  },
  {
   "cell_type": "code",
   "execution_count": 296,
   "metadata": {},
   "outputs": [
    {
     "name": "stdout",
     "output_type": "stream",
     "text": [
      "+--------------------+\n",
      "|            features|\n",
      "+--------------------+\n",
      "|(14,[0,1,2,6,7,8,...|\n",
      "|(14,[0,1,2,7,8,11...|\n",
      "|(14,[0,1,2,7,8,11...|\n",
      "|(14,[0,1,2,7,8,11...|\n",
      "|(14,[0,1,2,7,8,11...|\n",
      "|(14,[0,1,2,7,8,11...|\n",
      "|(14,[0,1,2,7,8,11...|\n",
      "|(14,[0,1,3,7,8,11...|\n",
      "|(14,[0,2,3,4,7,8,...|\n",
      "|(14,[0,2,3,6,7,8,...|\n",
      "|(14,[0,2,3,6,7,8,...|\n",
      "|(14,[0,2,3,6,7,8,...|\n",
      "|(14,[0,2,3,6,7,8,...|\n",
      "|(14,[0,2,3,6,7,8,...|\n",
      "|(14,[0,2,3,6,7,8,...|\n",
      "|(14,[0,2,3,6,7,8,...|\n",
      "|(14,[0,2,3,6,7,8,...|\n",
      "|(14,[0,2,3,6,7,8,...|\n",
      "|(14,[0,2,3,6,7,8,...|\n",
      "|(14,[0,2,3,6,7,8,...|\n",
      "+--------------------+\n",
      "only showing top 20 rows\n",
      "\n"
     ]
    }
   ],
   "source": [
    "unlabeled_data = test.select('features')\n",
    "unlabeled_data.show()"
   ]
  },
  {
   "cell_type": "code",
   "execution_count": 297,
   "metadata": {},
   "outputs": [
    {
     "name": "stdout",
     "output_type": "stream",
     "text": [
      "+--------------------+------------------+\n",
      "|            features|        prediction|\n",
      "+--------------------+------------------+\n",
      "|(14,[0,1,2,6,7,8,...| 15750.28430636639|\n",
      "|(14,[0,1,2,7,8,11...| 948.7918031239824|\n",
      "|(14,[0,1,2,7,8,11...| 903.8415829329897|\n",
      "|(14,[0,1,2,7,8,11...| 5313.610273514452|\n",
      "|(14,[0,1,2,7,8,11...|30407.421834713692|\n",
      "|(14,[0,1,2,7,8,11...|34610.762952827325|\n",
      "|(14,[0,1,2,7,8,11...| 29056.67695395011|\n",
      "|(14,[0,1,3,7,8,11...| 9898.894166986283|\n",
      "|(14,[0,2,3,4,7,8,...| 8908.132405939556|\n",
      "|(14,[0,2,3,6,7,8,...|4870.2115097727365|\n",
      "|(14,[0,2,3,6,7,8,...| 6954.934238789414|\n",
      "|(14,[0,2,3,6,7,8,...| 12315.64494187654|\n",
      "|(14,[0,2,3,6,7,8,...|12838.592904387755|\n",
      "|(14,[0,2,3,6,7,8,...| 21418.04677924236|\n",
      "|(14,[0,2,3,6,7,8,...|  14484.7406060793|\n",
      "|(14,[0,2,3,6,7,8,...|14862.340125434435|\n",
      "|(14,[0,2,3,6,7,8,...|18720.004142147198|\n",
      "|(14,[0,2,3,6,7,8,...|18659.491020444228|\n",
      "|(14,[0,2,3,6,7,8,...|12382.285892786123|\n",
      "|(14,[0,2,3,6,7,8,...|12266.597925122507|\n",
      "+--------------------+------------------+\n",
      "only showing top 20 rows\n",
      "\n"
     ]
    }
   ],
   "source": [
    "predictions = lr_model.transform(unlabeled_data)\n",
    "predictions.show()"
   ]
  }
 ],
 "metadata": {
  "kernelspec": {
   "display_name": "Python 3",
   "language": "python",
   "name": "python3"
  },
  "language_info": {
   "codemirror_mode": {
    "name": "ipython",
    "version": 3
   },
   "file_extension": ".py",
   "mimetype": "text/x-python",
   "name": "python",
   "nbconvert_exporter": "python",
   "pygments_lexer": "ipython3",
   "version": "3.9.18"
  }
 },
 "nbformat": 4,
 "nbformat_minor": 2
}
