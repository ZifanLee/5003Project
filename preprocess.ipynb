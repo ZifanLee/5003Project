{
 "cells": [
  {
   "cell_type": "code",
   "execution_count": 2,
   "metadata": {},
   "outputs": [
    {
     "name": "stdout",
     "output_type": "stream",
     "text": [
      "<class 'pandas.core.frame.DataFrame'>\n",
      "RangeIndex: 472325 entries, 0 to 472324\n",
      "Data columns (total 16 columns):\n",
      " #   Column        Non-Null Count   Dtype  \n",
      "---  ------        --------------   -----  \n",
      " 0   year          472325 non-null  int64  \n",
      " 1   make          472325 non-null  object \n",
      " 2   model         472325 non-null  object \n",
      " 3   trim          472325 non-null  object \n",
      " 4   body          472325 non-null  object \n",
      " 5   transmission  472325 non-null  object \n",
      " 6   vin           472325 non-null  object \n",
      " 7   state         472325 non-null  object \n",
      " 8   condition     472325 non-null  float64\n",
      " 9   odometer      472325 non-null  float64\n",
      " 10  color         472325 non-null  object \n",
      " 11  interior      472325 non-null  object \n",
      " 12  seller        472325 non-null  object \n",
      " 13  mmr           472325 non-null  float64\n",
      " 14  sellingprice  472325 non-null  float64\n",
      " 15  saledate      472325 non-null  object \n",
      "dtypes: float64(4), int64(1), object(11)\n",
      "memory usage: 57.7+ MB\n",
      "None\n"
     ]
    }
   ],
   "source": [
    "import pandas as pd\n",
    "\n",
    "# 加载数据\n",
    "df = pd.read_csv('./car_prices.csv')\n",
    "\n",
    "# 检查所有列\n",
    "print(df.info())\n",
    "\n",
    "# 删除包含空值的行\n",
    "df = df.dropna()\n",
    "\n",
    "# 写回原文件\n",
    "df.to_csv('./car_prices.csv', index=False)"
   ]
  }
 ],
 "metadata": {
  "kernelspec": {
   "display_name": "Python 3",
   "language": "python",
   "name": "python3"
  },
  "language_info": {
   "codemirror_mode": {
    "name": "ipython",
    "version": 3
   },
   "file_extension": ".py",
   "mimetype": "text/x-python",
   "name": "python",
   "nbconvert_exporter": "python",
   "pygments_lexer": "ipython3",
   "version": "3.9.18"
  }
 },
 "nbformat": 4,
 "nbformat_minor": 2
}
