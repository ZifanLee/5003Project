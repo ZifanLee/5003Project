{
 "cells": [
  {
   "cell_type": "code",
   "execution_count": 1,
   "metadata": {},
   "outputs": [],
   "source": [
    "import pandas as pd\n",
    "from pyspark.sql import SparkSession"
   ]
  },
  {
   "cell_type": "markdown",
   "metadata": {},
   "source": [
    "### Preprocess"
   ]
  },
  {
   "cell_type": "code",
   "execution_count": 2,
   "metadata": {},
   "outputs": [
    {
     "name": "stdout",
     "output_type": "stream",
     "text": [
      "<class 'pandas.core.frame.DataFrame'>\n",
      "RangeIndex: 558837 entries, 0 to 558836\n",
      "Data columns (total 16 columns):\n",
      " #   Column        Non-Null Count   Dtype  \n",
      "---  ------        --------------   -----  \n",
      " 0   year          558837 non-null  int64  \n",
      " 1   make          548536 non-null  object \n",
      " 2   model         548438 non-null  object \n",
      " 3   trim          548186 non-null  object \n",
      " 4   body          545642 non-null  object \n",
      " 5   transmission  493485 non-null  object \n",
      " 6   vin           558833 non-null  object \n",
      " 7   state         558837 non-null  object \n",
      " 8   condition     547017 non-null  float64\n",
      " 9   odometer      558743 non-null  float64\n",
      " 10  color         558088 non-null  object \n",
      " 11  interior      558088 non-null  object \n",
      " 12  seller        558837 non-null  object \n",
      " 13  mmr           558799 non-null  float64\n",
      " 14  sellingprice  558825 non-null  float64\n",
      " 15  saledate      558825 non-null  object \n",
      "dtypes: float64(4), int64(1), object(11)\n",
      "memory usage: 68.2+ MB\n",
      "None\n"
     ]
    }
   ],
   "source": [
    "# 加载数据\n",
    "df = pd.read_csv('./car_prices.csv')\n",
    "\n",
    "# 检查所有列\n",
    "print(df.info())\n",
    "\n",
    "# 删除包含空值的行\n",
    "df = df.dropna()\n",
    "\n",
    "# 写回原文件\n",
    "df.to_csv('./car_prices_without_null.csv', index=False)"
   ]
  },
  {
   "cell_type": "code",
   "execution_count": 3,
   "metadata": {},
   "outputs": [
    {
     "name": "stderr",
     "output_type": "stream",
     "text": [
      "your 131072x1 screen size is bogus. expect trouble\n"
     ]
    },
    {
     "name": "stdout",
     "output_type": "stream",
     "text": [
      "24/04/23 16:33:15 WARN Utils: Your hostname, SIMON_WANG resolves to a loopback address: 127.0.1.1; using 172.30.102.1 instead (on interface eth0)\n",
      "24/04/23 16:33:15 WARN Utils: Set SPARK_LOCAL_IP if you need to bind to another address\n"
     ]
    },
    {
     "name": "stderr",
     "output_type": "stream",
     "text": [
      "Setting default log level to \"WARN\".\n",
      "To adjust logging level use sc.setLogLevel(newLevel). For SparkR, use setLogLevel(newLevel).\n"
     ]
    },
    {
     "name": "stdout",
     "output_type": "stream",
     "text": [
      "24/04/23 16:33:16 WARN NativeCodeLoader: Unable to load native-hadoop library for your platform... using builtin-java classes where applicable\n"
     ]
    }
   ],
   "source": [
    "spark = SparkSession.builder.appName('5003_project').getOrCreate()"
   ]
  },
  {
   "cell_type": "code",
   "execution_count": 4,
   "metadata": {},
   "outputs": [
    {
     "name": "stderr",
     "output_type": "stream",
     "text": [
      "                                                                                \r"
     ]
    },
    {
     "name": "stdout",
     "output_type": "stream",
     "text": [
      "+----+----+--------+----------+-----+------------+-----------------+-----+---------+--------+-----+--------+--------------------+-------+------------+--------------------+\n",
      "|year|make|   model|      trim| body|transmission|              vin|state|condition|odometer|color|interior|              seller|    mmr|sellingprice|            saledate|\n",
      "+----+----+--------+----------+-----+------------+-----------------+-----+---------+--------+-----+--------+--------------------+-------+------------+--------------------+\n",
      "|2015| Kia| Sorento|        LX|  SUV|   automatic|5xyktca69fg566472|   ca|      5.0| 16639.0|white|   black|kia motors americ...|20500.0|     21500.0|Tue Dec 16 2014 1...|\n",
      "|2015| Kia| Sorento|        LX|  SUV|   automatic|5xyktca69fg561319|   ca|      5.0|  9393.0|white|   beige|kia motors americ...|20800.0|     21500.0|Tue Dec 16 2014 1...|\n",
      "|2014| BMW|3 Series|328i SULEV|Sedan|   automatic|wba3c1c51ek116351|   ca|     45.0|  1331.0| gray|   black|financial service...|31900.0|     30000.0|Thu Jan 15 2015 0...|\n",
      "+----+----+--------+----------+-----+------------+-----------------+-----+---------+--------+-----+--------+--------------------+-------+------------+--------------------+\n",
      "only showing top 3 rows\n",
      "\n"
     ]
    }
   ],
   "source": [
    "data = spark.read.csv('./car_prices_without_null.csv', header=True, inferSchema=True)\n",
    "data.show(3)"
   ]
  },
  {
   "cell_type": "code",
   "execution_count": 5,
   "metadata": {},
   "outputs": [
    {
     "name": "stdout",
     "output_type": "stream",
     "text": [
      "root\n",
      " |-- year: integer (nullable = true)\n",
      " |-- make: string (nullable = true)\n",
      " |-- model: string (nullable = true)\n",
      " |-- trim: string (nullable = true)\n",
      " |-- body: string (nullable = true)\n",
      " |-- transmission: string (nullable = true)\n",
      " |-- vin: string (nullable = true)\n",
      " |-- state: string (nullable = true)\n",
      " |-- condition: double (nullable = true)\n",
      " |-- odometer: double (nullable = true)\n",
      " |-- color: string (nullable = true)\n",
      " |-- interior: string (nullable = true)\n",
      " |-- seller: string (nullable = true)\n",
      " |-- mmr: double (nullable = true)\n",
      " |-- sellingprice: double (nullable = true)\n",
      " |-- saledate: string (nullable = true)\n",
      "\n"
     ]
    }
   ],
   "source": [
    "data.printSchema()"
   ]
  },
  {
   "cell_type": "markdown",
   "metadata": {},
   "source": [
    "### Data Cleaning"
   ]
  },
  {
   "cell_type": "code",
   "execution_count": 6,
   "metadata": {},
   "outputs": [
    {
     "name": "stderr",
     "output_type": "stream",
     "text": [
      "                                                                                \r"
     ]
    },
    {
     "name": "stdout",
     "output_type": "stream",
     "text": [
      "+----+----+-------------------+--------------------+-----------+------------+-----------------+-----+---------+--------+------+--------+--------------------+-------+------------+--------------------+\n",
      "|year|make|              model|                trim|       body|transmission|              vin|state|condition|odometer| color|interior|              seller|    mmr|sellingprice|            saledate|\n",
      "+----+----+-------------------+--------------------+-----------+------------+-----------------+-----+---------+--------+------+--------+--------------------+-------+------------+--------------------+\n",
      "|2015|   8|            Sorento|                  LX|        SUV|   automatic|5xyktca69fg566472|   ca|      5.0| 16639.0| white|   black|kia motors americ...|20500.0|     21500.0|Tue Dec 16 2014 1...|\n",
      "|2015|   8|            Sorento|                  LX|        SUV|   automatic|5xyktca69fg561319|   ca|      5.0|  9393.0| white|   beige|kia motors americ...|20800.0|     21500.0|Tue Dec 16 2014 1...|\n",
      "|2014|   7|           3 Series|          328i SULEV|      Sedan|   automatic|wba3c1c51ek116351|   ca|     45.0|  1331.0|  gray|   black|financial service...|31900.0|     30000.0|Thu Jan 15 2015 0...|\n",
      "|2015|  26|                S60|                  T5|      Sedan|   automatic|yv1612tb4f1310987|   ca|     41.0| 14282.0| white|   black|volvo na rep/worl...|27500.0|     27750.0|Thu Jan 29 2015 0...|\n",
      "|2014|   7|6 Series Gran Coupe|                650i|      Sedan|   automatic|wba6b2c57ed129731|   ca|     43.0|  2641.0|  gray|   black|financial service...|66000.0|     67000.0|Thu Dec 18 2014 1...|\n",
      "|2015|   2|             Altima|               2.5 S|      Sedan|   automatic|1n4al3ap1fn326013|   ca|      1.0|  5554.0|  gray|   black|enterprise vehicl...|15350.0|     10900.0|Tue Dec 30 2014 1...|\n",
      "|2014|   7|                 M5|                Base|      Sedan|   automatic|wbsfv9c51ed593089|   ca|     34.0| 14943.0| black|   black|the hertz corpora...|69000.0|     65000.0|Wed Dec 17 2014 1...|\n",
      "|2014|   1|              Cruze|                 1LT|      Sedan|   automatic|1g1pc5sb2e7128460|   ca|      2.0| 28617.0| black|   black|enterprise vehicl...|11900.0|      9800.0|Tue Dec 16 2014 1...|\n",
      "|2014|  19|                 A4|2.0T Premium Plus...|      Sedan|   automatic|wauffafl3en030343|   ca|     42.0|  9557.0| white|   black|  audi mission viejo|32100.0|     32250.0|Thu Dec 18 2014 1...|\n",
      "|2014|   1|             Camaro|                  LT|Convertible|   automatic|2g1fb3d37e9218789|   ca|      3.0|  4809.0|   red|   black|  d/m auto sales inc|26300.0|     17500.0|Tue Jan 20 2015 0...|\n",
      "|2014|  19|                 A6|3.0T Prestige qua...|      Sedan|   automatic|wauhgafc0en062916|   ca|     48.0| 14414.0| black|   black|   desert auto trade|47300.0|     49750.0|Tue Dec 16 2014 1...|\n",
      "|2015|   8|             Optima|                  LX|      Sedan|   automatic|5xxgm4a73fg353538|   ca|     48.0|  2034.0|   red|     tan|  kia motors finance|15150.0|     17700.0|Tue Dec 16 2014 1...|\n",
      "|2015|   0|             Fusion|                  SE|      Sedan|   automatic|3fa6p0hdxfr145753|   ca|      2.0|  5559.0| white|   beige|enterprise vehicl...|15350.0|     12000.0|Tue Jan 13 2015 1...|\n",
      "|2015|   8|            Sorento|                  LX|        SUV|   automatic|5xyktca66fg561407|   ca|      5.0| 14634.0|silver|   black|kia motors americ...|20600.0|     21500.0|Tue Dec 16 2014 1...|\n",
      "|2015|   2|             Altima|               2.5 S|      Sedan|   automatic|1n4al3ap5fc124223|   ca|      2.0| 11398.0| black|   black|enterprise vehicl...|14750.0|     14100.0|Tue Dec 23 2014 1...|\n",
      "|2014|  19|                 Q5|2.0T Premium Plus...|        SUV|   automatic|wa1lfafpxea085074|   ca|     49.0|  7983.0| white|   black|audi north scotts...|37100.0|     40000.0|Thu Dec 18 2014 1...|\n",
      "|2014|   1|             Camaro|                  LS|      Coupe|   automatic|2g1fa1e39e9134494|   ca|     17.0| 13441.0| black|   black|wells fargo deale...|17750.0|     17000.0|Tue Dec 30 2014 1...|\n",
      "|2014|   7|           6 Series|                650i|Convertible|   automatic|wbayp9c53ed169260|   ca|     34.0|  8819.0| black|   black|the hertz corpora...|68000.0|     67200.0|Wed Dec 17 2014 1...|\n",
      "|2015|   1|             Impala|                 LTZ|      Sedan|   automatic|2g1165s30f9103921|   ca|     19.0| 14538.0|silver|   black|enterprise vehicl...|24300.0|      7200.0|Tue Jul 07 2015 0...|\n",
      "|2014|   7|           5 Series|                528i|      Sedan|   automatic|wba5a5c51ed501631|   ca|     29.0| 25969.0| black|   black|financial service...|34200.0|     30000.0|Tue Feb 03 2015 0...|\n",
      "+----+----+-------------------+--------------------+-----------+------------+-----------------+-----+---------+--------+------+--------+--------------------+-------+------------+--------------------+\n",
      "only showing top 20 rows\n",
      "\n"
     ]
    }
   ],
   "source": [
    "from pyspark.sql.functions import col\n",
    "from pyspark.sql.types import IntegerType\n",
    "from pyspark.ml.feature import StringIndexer\n",
    "\n",
    "# 创建StringIndexer对象\n",
    "stringIndexer = StringIndexer(inputCol=\"make\", outputCol=\"make_index\")\n",
    "\n",
    "# 使用StringIndexer对象进行转换\n",
    "indexedData = stringIndexer.fit(data).transform(data)\n",
    "\n",
    "# 将\"make_index\"列转换为整数类型\n",
    "indexedData = indexedData.withColumn(\"make_index\", col(\"make_index\").cast(IntegerType()))\n",
    "\n",
    "# 替换\"make\"列为\"make_index\"列\n",
    "indexedData = indexedData.withColumn(\"make\", col(\"make_index\")).drop(\"make_index\")\n",
    "\n",
    "# 查看转换后的数据\n",
    "data = indexedData\n",
    "data.show()"
   ]
  },
  {
   "cell_type": "code",
   "execution_count": 7,
   "metadata": {},
   "outputs": [
    {
     "name": "stdout",
     "output_type": "stream",
     "text": [
      "+----+----+-------------------+--------------------+-----------+------------+-----------------+-----+---------+--------+------+--------+--------------------+-------+------------+--------------------+\n",
      "|year|make|              model|                trim|       body|transmission|              vin|state|condition|odometer| color|interior|              seller|    mmr|sellingprice|            saledate|\n",
      "+----+----+-------------------+--------------------+-----------+------------+-----------------+-----+---------+--------+------+--------+--------------------+-------+------------+--------------------+\n",
      "|2015|   8|            Sorento|                  LX|        SUV|   automatic|5xyktca69fg566472|    1|      5.0| 16639.0| white|   black|kia motors americ...|20500.0|     21500.0|Tue Dec 16 2014 1...|\n",
      "|2015|   8|            Sorento|                  LX|        SUV|   automatic|5xyktca69fg561319|    1|      5.0|  9393.0| white|   beige|kia motors americ...|20800.0|     21500.0|Tue Dec 16 2014 1...|\n",
      "|2014|   7|           3 Series|          328i SULEV|      Sedan|   automatic|wba3c1c51ek116351|    1|     45.0|  1331.0|  gray|   black|financial service...|31900.0|     30000.0|Thu Jan 15 2015 0...|\n",
      "|2015|  26|                S60|                  T5|      Sedan|   automatic|yv1612tb4f1310987|    1|     41.0| 14282.0| white|   black|volvo na rep/worl...|27500.0|     27750.0|Thu Jan 29 2015 0...|\n",
      "|2014|   7|6 Series Gran Coupe|                650i|      Sedan|   automatic|wba6b2c57ed129731|    1|     43.0|  2641.0|  gray|   black|financial service...|66000.0|     67000.0|Thu Dec 18 2014 1...|\n",
      "|2015|   2|             Altima|               2.5 S|      Sedan|   automatic|1n4al3ap1fn326013|    1|      1.0|  5554.0|  gray|   black|enterprise vehicl...|15350.0|     10900.0|Tue Dec 30 2014 1...|\n",
      "|2014|   7|                 M5|                Base|      Sedan|   automatic|wbsfv9c51ed593089|    1|     34.0| 14943.0| black|   black|the hertz corpora...|69000.0|     65000.0|Wed Dec 17 2014 1...|\n",
      "|2014|   1|              Cruze|                 1LT|      Sedan|   automatic|1g1pc5sb2e7128460|    1|      2.0| 28617.0| black|   black|enterprise vehicl...|11900.0|      9800.0|Tue Dec 16 2014 1...|\n",
      "|2014|  19|                 A4|2.0T Premium Plus...|      Sedan|   automatic|wauffafl3en030343|    1|     42.0|  9557.0| white|   black|  audi mission viejo|32100.0|     32250.0|Thu Dec 18 2014 1...|\n",
      "|2014|   1|             Camaro|                  LT|Convertible|   automatic|2g1fb3d37e9218789|    1|      3.0|  4809.0|   red|   black|  d/m auto sales inc|26300.0|     17500.0|Tue Jan 20 2015 0...|\n",
      "|2014|  19|                 A6|3.0T Prestige qua...|      Sedan|   automatic|wauhgafc0en062916|    1|     48.0| 14414.0| black|   black|   desert auto trade|47300.0|     49750.0|Tue Dec 16 2014 1...|\n",
      "|2015|   8|             Optima|                  LX|      Sedan|   automatic|5xxgm4a73fg353538|    1|     48.0|  2034.0|   red|     tan|  kia motors finance|15150.0|     17700.0|Tue Dec 16 2014 1...|\n",
      "|2015|   0|             Fusion|                  SE|      Sedan|   automatic|3fa6p0hdxfr145753|    1|      2.0|  5559.0| white|   beige|enterprise vehicl...|15350.0|     12000.0|Tue Jan 13 2015 1...|\n",
      "|2015|   8|            Sorento|                  LX|        SUV|   automatic|5xyktca66fg561407|    1|      5.0| 14634.0|silver|   black|kia motors americ...|20600.0|     21500.0|Tue Dec 16 2014 1...|\n",
      "|2015|   2|             Altima|               2.5 S|      Sedan|   automatic|1n4al3ap5fc124223|    1|      2.0| 11398.0| black|   black|enterprise vehicl...|14750.0|     14100.0|Tue Dec 23 2014 1...|\n",
      "|2014|  19|                 Q5|2.0T Premium Plus...|        SUV|   automatic|wa1lfafpxea085074|    1|     49.0|  7983.0| white|   black|audi north scotts...|37100.0|     40000.0|Thu Dec 18 2014 1...|\n",
      "|2014|   1|             Camaro|                  LS|      Coupe|   automatic|2g1fa1e39e9134494|    1|     17.0| 13441.0| black|   black|wells fargo deale...|17750.0|     17000.0|Tue Dec 30 2014 1...|\n",
      "|2014|   7|           6 Series|                650i|Convertible|   automatic|wbayp9c53ed169260|    1|     34.0|  8819.0| black|   black|the hertz corpora...|68000.0|     67200.0|Wed Dec 17 2014 1...|\n",
      "|2015|   1|             Impala|                 LTZ|      Sedan|   automatic|2g1165s30f9103921|    1|     19.0| 14538.0|silver|   black|enterprise vehicl...|24300.0|      7200.0|Tue Jul 07 2015 0...|\n",
      "|2014|   7|           5 Series|                528i|      Sedan|   automatic|wba5a5c51ed501631|    1|     29.0| 25969.0| black|   black|financial service...|34200.0|     30000.0|Tue Feb 03 2015 0...|\n",
      "+----+----+-------------------+--------------------+-----------+------------+-----------------+-----+---------+--------+------+--------+--------------------+-------+------------+--------------------+\n",
      "only showing top 20 rows\n",
      "\n"
     ]
    }
   ],
   "source": [
    "# 处理state列\n",
    "stringIndexer = StringIndexer(inputCol=\"state\", outputCol=\"state_index\")\n",
    "indexedData = stringIndexer.fit(data).transform(data)\n",
    "indexedData = indexedData.withColumn(\"state_index\", col(\"state_index\").cast(IntegerType()))\n",
    "indexedData = indexedData.withColumn(\"state\", col(\"state_index\")).drop(\"state_index\")\n",
    "\n",
    "data = indexedData\n",
    "data.show()"
   ]
  },
  {
   "cell_type": "code",
   "execution_count": 8,
   "metadata": {},
   "outputs": [
    {
     "name": "stdout",
     "output_type": "stream",
     "text": [
      "+----+----+-----+--------------------+-----------+------------+-----------------+-----+---------+--------+------+--------+--------------------+-------+------------+--------------------+\n",
      "|year|make|model|                trim|       body|transmission|              vin|state|condition|odometer| color|interior|              seller|    mmr|sellingprice|            saledate|\n",
      "+----+----+-----+--------------------+-----------+------------+-----------------+-----+---------+--------+------+--------+--------------------+-------+------------+--------------------+\n",
      "|2015|   8|   40|                  LX|        SUV|   automatic|5xyktca69fg566472|    1|      5.0| 16639.0| white|   black|kia motors americ...|20500.0|     21500.0|Tue Dec 16 2014 1...|\n",
      "|2015|   8|   40|                  LX|        SUV|   automatic|5xyktca69fg561319|    1|      5.0|  9393.0| white|   beige|kia motors americ...|20800.0|     21500.0|Tue Dec 16 2014 1...|\n",
      "|2014|   7|    8|          328i SULEV|      Sedan|   automatic|wba3c1c51ek116351|    1|     45.0|  1331.0|  gray|   black|financial service...|31900.0|     30000.0|Thu Jan 15 2015 0...|\n",
      "|2015|  26|  127|                  T5|      Sedan|   automatic|yv1612tb4f1310987|    1|     41.0| 14282.0| white|   black|volvo na rep/worl...|27500.0|     27750.0|Thu Jan 29 2015 0...|\n",
      "|2014|   7|  398|                650i|      Sedan|   automatic|wba6b2c57ed129731|    1|     43.0|  2641.0|  gray|   black|financial service...|66000.0|     67000.0|Thu Dec 18 2014 1...|\n",
      "|2015|   2|    0|               2.5 S|      Sedan|   automatic|1n4al3ap1fn326013|    1|      1.0|  5554.0|  gray|   black|enterprise vehicl...|15350.0|     10900.0|Tue Dec 30 2014 1...|\n",
      "|2014|   7|  406|                Base|      Sedan|   automatic|wbsfv9c51ed593089|    1|     34.0| 14943.0| black|   black|the hertz corpora...|69000.0|     65000.0|Wed Dec 17 2014 1...|\n",
      "|2014|   1|   18|                 1LT|      Sedan|   automatic|1g1pc5sb2e7128460|    1|      2.0| 28617.0| black|   black|enterprise vehicl...|11900.0|      9800.0|Tue Dec 16 2014 1...|\n",
      "|2014|  19|   61|2.0T Premium Plus...|      Sedan|   automatic|wauffafl3en030343|    1|     42.0|  9557.0| white|   black|  audi mission viejo|32100.0|     32250.0|Thu Dec 18 2014 1...|\n",
      "|2014|   1|   64|                  LT|Convertible|   automatic|2g1fb3d37e9218789|    1|      3.0|  4809.0|   red|   black|  d/m auto sales inc|26300.0|     17500.0|Tue Jan 20 2015 0...|\n",
      "|2014|  19|  150|3.0T Prestige qua...|      Sedan|   automatic|wauhgafc0en062916|    1|     48.0| 14414.0| black|   black|   desert auto trade|47300.0|     49750.0|Tue Dec 16 2014 1...|\n",
      "|2015|   8|   31|                  LX|      Sedan|   automatic|5xxgm4a73fg353538|    1|     48.0|  2034.0|   red|     tan|  kia motors finance|15150.0|     17700.0|Tue Dec 16 2014 1...|\n",
      "|2015|   0|    1|                  SE|      Sedan|   automatic|3fa6p0hdxfr145753|    1|      2.0|  5559.0| white|   beige|enterprise vehicl...|15350.0|     12000.0|Tue Jan 13 2015 1...|\n",
      "|2015|   8|   40|                  LX|        SUV|   automatic|5xyktca66fg561407|    1|      5.0| 14634.0|silver|   black|kia motors americ...|20600.0|     21500.0|Tue Dec 16 2014 1...|\n",
      "|2015|   2|    0|               2.5 S|      Sedan|   automatic|1n4al3ap5fc124223|    1|      2.0| 11398.0| black|   black|enterprise vehicl...|14750.0|     14100.0|Tue Dec 23 2014 1...|\n",
      "|2014|  19|  200|2.0T Premium Plus...|        SUV|   automatic|wa1lfafpxea085074|    1|     49.0|  7983.0| white|   black|audi north scotts...|37100.0|     40000.0|Thu Dec 18 2014 1...|\n",
      "|2014|   1|   64|                  LS|      Coupe|   automatic|2g1fa1e39e9134494|    1|     17.0| 13441.0| black|   black|wells fargo deale...|17750.0|     17000.0|Tue Dec 30 2014 1...|\n",
      "|2014|   7|  155|                650i|Convertible|   automatic|wbayp9c53ed169260|    1|     34.0|  8819.0| black|   black|the hertz corpora...|68000.0|     67200.0|Wed Dec 17 2014 1...|\n",
      "|2015|   1|    7|                 LTZ|      Sedan|   automatic|2g1165s30f9103921|    1|     19.0| 14538.0|silver|   black|enterprise vehicl...|24300.0|      7200.0|Tue Jul 07 2015 0...|\n",
      "|2014|   7|   34|                528i|      Sedan|   automatic|wba5a5c51ed501631|    1|     29.0| 25969.0| black|   black|financial service...|34200.0|     30000.0|Tue Feb 03 2015 0...|\n",
      "+----+----+-----+--------------------+-----------+------------+-----------------+-----+---------+--------+------+--------+--------------------+-------+------------+--------------------+\n",
      "only showing top 20 rows\n",
      "\n"
     ]
    }
   ],
   "source": [
    "# 处理model列\n",
    "stringIndexer = StringIndexer(inputCol=\"model\", outputCol=\"model_index\")\n",
    "indexedData = stringIndexer.fit(data).transform(data)\n",
    "indexedData = indexedData.withColumn(\"model_index\", col(\"model_index\").cast(IntegerType()))\n",
    "indexedData = indexedData.withColumn(\"model\", col(\"model_index\")).drop(\"model_index\")\n",
    "\n",
    "data = indexedData\n",
    "data.show()"
   ]
  },
  {
   "cell_type": "code",
   "execution_count": 9,
   "metadata": {},
   "outputs": [
    {
     "name": "stdout",
     "output_type": "stream",
     "text": [
      "+----+----+-----+--------------------+-----------+------------+-----------------+-----+---------+--------+------+--------+--------------------+-------+------------+--------------------+\n",
      "|year|make|model|                trim|       body|transmission|              vin|state|condition|odometer| color|interior|              seller|    mmr|sellingprice|            saledate|\n",
      "+----+----+-----+--------------------+-----------+------------+-----------------+-----+---------+--------+------+--------+--------------------+-------+------------+--------------------+\n",
      "|2015|   8|   40|                  LX|        SUV|           0|5xyktca69fg566472|    1|      5.0| 16639.0| white|   black|kia motors americ...|20500.0|     21500.0|Tue Dec 16 2014 1...|\n",
      "|2015|   8|   40|                  LX|        SUV|           0|5xyktca69fg561319|    1|      5.0|  9393.0| white|   beige|kia motors americ...|20800.0|     21500.0|Tue Dec 16 2014 1...|\n",
      "|2014|   7|    8|          328i SULEV|      Sedan|           0|wba3c1c51ek116351|    1|     45.0|  1331.0|  gray|   black|financial service...|31900.0|     30000.0|Thu Jan 15 2015 0...|\n",
      "|2015|  26|  127|                  T5|      Sedan|           0|yv1612tb4f1310987|    1|     41.0| 14282.0| white|   black|volvo na rep/worl...|27500.0|     27750.0|Thu Jan 29 2015 0...|\n",
      "|2014|   7|  398|                650i|      Sedan|           0|wba6b2c57ed129731|    1|     43.0|  2641.0|  gray|   black|financial service...|66000.0|     67000.0|Thu Dec 18 2014 1...|\n",
      "|2015|   2|    0|               2.5 S|      Sedan|           0|1n4al3ap1fn326013|    1|      1.0|  5554.0|  gray|   black|enterprise vehicl...|15350.0|     10900.0|Tue Dec 30 2014 1...|\n",
      "|2014|   7|  406|                Base|      Sedan|           0|wbsfv9c51ed593089|    1|     34.0| 14943.0| black|   black|the hertz corpora...|69000.0|     65000.0|Wed Dec 17 2014 1...|\n",
      "|2014|   1|   18|                 1LT|      Sedan|           0|1g1pc5sb2e7128460|    1|      2.0| 28617.0| black|   black|enterprise vehicl...|11900.0|      9800.0|Tue Dec 16 2014 1...|\n",
      "|2014|  19|   61|2.0T Premium Plus...|      Sedan|           0|wauffafl3en030343|    1|     42.0|  9557.0| white|   black|  audi mission viejo|32100.0|     32250.0|Thu Dec 18 2014 1...|\n",
      "|2014|   1|   64|                  LT|Convertible|           0|2g1fb3d37e9218789|    1|      3.0|  4809.0|   red|   black|  d/m auto sales inc|26300.0|     17500.0|Tue Jan 20 2015 0...|\n",
      "|2014|  19|  150|3.0T Prestige qua...|      Sedan|           0|wauhgafc0en062916|    1|     48.0| 14414.0| black|   black|   desert auto trade|47300.0|     49750.0|Tue Dec 16 2014 1...|\n",
      "|2015|   8|   31|                  LX|      Sedan|           0|5xxgm4a73fg353538|    1|     48.0|  2034.0|   red|     tan|  kia motors finance|15150.0|     17700.0|Tue Dec 16 2014 1...|\n",
      "|2015|   0|    1|                  SE|      Sedan|           0|3fa6p0hdxfr145753|    1|      2.0|  5559.0| white|   beige|enterprise vehicl...|15350.0|     12000.0|Tue Jan 13 2015 1...|\n",
      "|2015|   8|   40|                  LX|        SUV|           0|5xyktca66fg561407|    1|      5.0| 14634.0|silver|   black|kia motors americ...|20600.0|     21500.0|Tue Dec 16 2014 1...|\n",
      "|2015|   2|    0|               2.5 S|      Sedan|           0|1n4al3ap5fc124223|    1|      2.0| 11398.0| black|   black|enterprise vehicl...|14750.0|     14100.0|Tue Dec 23 2014 1...|\n",
      "|2014|  19|  200|2.0T Premium Plus...|        SUV|           0|wa1lfafpxea085074|    1|     49.0|  7983.0| white|   black|audi north scotts...|37100.0|     40000.0|Thu Dec 18 2014 1...|\n",
      "|2014|   1|   64|                  LS|      Coupe|           0|2g1fa1e39e9134494|    1|     17.0| 13441.0| black|   black|wells fargo deale...|17750.0|     17000.0|Tue Dec 30 2014 1...|\n",
      "|2014|   7|  155|                650i|Convertible|           0|wbayp9c53ed169260|    1|     34.0|  8819.0| black|   black|the hertz corpora...|68000.0|     67200.0|Wed Dec 17 2014 1...|\n",
      "|2015|   1|    7|                 LTZ|      Sedan|           0|2g1165s30f9103921|    1|     19.0| 14538.0|silver|   black|enterprise vehicl...|24300.0|      7200.0|Tue Jul 07 2015 0...|\n",
      "|2014|   7|   34|                528i|      Sedan|           0|wba5a5c51ed501631|    1|     29.0| 25969.0| black|   black|financial service...|34200.0|     30000.0|Tue Feb 03 2015 0...|\n",
      "+----+----+-----+--------------------+-----------+------------+-----------------+-----+---------+--------+------+--------+--------------------+-------+------------+--------------------+\n",
      "only showing top 20 rows\n",
      "\n"
     ]
    }
   ],
   "source": [
    "# 处理transmission\n",
    "stringIndexer = StringIndexer(inputCol=\"transmission\", outputCol=\"transmission_index\")\n",
    "indexedData = stringIndexer.fit(data).transform(data)\n",
    "indexedData = indexedData.withColumn(\"transmission_index\", col(\"transmission_index\").cast(IntegerType()))\n",
    "indexedData = indexedData.withColumn(\"transmission\", col(\"transmission_index\")).drop(\"transmission_index\")\n",
    "\n",
    "data = indexedData\n",
    "data.show()"
   ]
  },
  {
   "cell_type": "code",
   "execution_count": 10,
   "metadata": {},
   "outputs": [
    {
     "name": "stdout",
     "output_type": "stream",
     "text": [
      "+----+----+-----+----+-----------+------------+-----------------+-----+---------+--------+------+--------+--------------------+-------+------------+--------------------+\n",
      "|year|make|model|trim|       body|transmission|              vin|state|condition|odometer| color|interior|              seller|    mmr|sellingprice|            saledate|\n",
      "+----+----+-----+----+-----------+------------+-----------------+-----+---------+--------+------+--------+--------------------+-------+------------+--------------------+\n",
      "|2015|   8|   40|   2|        SUV|           0|5xyktca69fg566472|    1|      5.0| 16639.0| white|   black|kia motors americ...|20500.0|     21500.0|Tue Dec 16 2014 1...|\n",
      "|2015|   8|   40|   2|        SUV|           0|5xyktca69fg561319|    1|      5.0|  9393.0| white|   beige|kia motors americ...|20800.0|     21500.0|Tue Dec 16 2014 1...|\n",
      "|2014|   7|    8| 636|      Sedan|           0|wba3c1c51ek116351|    1|     45.0|  1331.0|  gray|   black|financial service...|31900.0|     30000.0|Thu Jan 15 2015 0...|\n",
      "|2015|  26|  127|  91|      Sedan|           0|yv1612tb4f1310987|    1|     41.0| 14282.0| white|   black|volvo na rep/worl...|27500.0|     27750.0|Thu Jan 29 2015 0...|\n",
      "|2014|   7|  398| 139|      Sedan|           0|wba6b2c57ed129731|    1|     43.0|  2641.0|  gray|   black|financial service...|66000.0|     67000.0|Thu Dec 18 2014 1...|\n",
      "|2015|   2|    0|  12|      Sedan|           0|1n4al3ap1fn326013|    1|      1.0|  5554.0|  gray|   black|enterprise vehicl...|15350.0|     10900.0|Tue Dec 30 2014 1...|\n",
      "|2014|   7|  406|   0|      Sedan|           0|wbsfv9c51ed593089|    1|     34.0| 14943.0| black|   black|the hertz corpora...|69000.0|     65000.0|Wed Dec 17 2014 1...|\n",
      "|2014|   1|   18|  31|      Sedan|           0|1g1pc5sb2e7128460|    1|      2.0| 28617.0| black|   black|enterprise vehicl...|11900.0|      9800.0|Tue Dec 16 2014 1...|\n",
      "|2014|  19|   61| 205|      Sedan|           0|wauffafl3en030343|    1|     42.0|  9557.0| white|   black|  audi mission viejo|32100.0|     32250.0|Thu Dec 18 2014 1...|\n",
      "|2014|   1|   64|   4|Convertible|           0|2g1fb3d37e9218789|    1|      3.0|  4809.0|   red|   black|  d/m auto sales inc|26300.0|     17500.0|Tue Jan 20 2015 0...|\n",
      "|2014|  19|  150| 726|      Sedan|           0|wauhgafc0en062916|    1|     48.0| 14414.0| black|   black|   desert auto trade|47300.0|     49750.0|Tue Dec 16 2014 1...|\n",
      "|2015|   8|   31|   2|      Sedan|           0|5xxgm4a73fg353538|    1|     48.0|  2034.0|   red|     tan|  kia motors finance|15150.0|     17700.0|Tue Dec 16 2014 1...|\n",
      "|2015|   0|    1|   1|      Sedan|           0|3fa6p0hdxfr145753|    1|      2.0|  5559.0| white|   beige|enterprise vehicl...|15350.0|     12000.0|Tue Jan 13 2015 1...|\n",
      "|2015|   8|   40|   2|        SUV|           0|5xyktca66fg561407|    1|      5.0| 14634.0|silver|   black|kia motors americ...|20600.0|     21500.0|Tue Dec 16 2014 1...|\n",
      "|2015|   2|    0|  12|      Sedan|           0|1n4al3ap5fc124223|    1|      2.0| 11398.0| black|   black|enterprise vehicl...|14750.0|     14100.0|Tue Dec 23 2014 1...|\n",
      "|2014|  19|  200| 205|        SUV|           0|wa1lfafpxea085074|    1|     49.0|  7983.0| white|   black|audi north scotts...|37100.0|     40000.0|Thu Dec 18 2014 1...|\n",
      "|2014|   1|   64|   6|      Coupe|           0|2g1fa1e39e9134494|    1|     17.0| 13441.0| black|   black|wells fargo deale...|17750.0|     17000.0|Tue Dec 30 2014 1...|\n",
      "|2014|   7|  155| 139|Convertible|           0|wbayp9c53ed169260|    1|     34.0|  8819.0| black|   black|the hertz corpora...|68000.0|     67200.0|Wed Dec 17 2014 1...|\n",
      "|2015|   1|    7|  19|      Sedan|           0|2g1165s30f9103921|    1|     19.0| 14538.0|silver|   black|enterprise vehicl...|24300.0|      7200.0|Tue Jul 07 2015 0...|\n",
      "|2014|   7|   34|  68|      Sedan|           0|wba5a5c51ed501631|    1|     29.0| 25969.0| black|   black|financial service...|34200.0|     30000.0|Tue Feb 03 2015 0...|\n",
      "+----+----+-----+----+-----------+------------+-----------------+-----+---------+--------+------+--------+--------------------+-------+------------+--------------------+\n",
      "only showing top 20 rows\n",
      "\n"
     ]
    }
   ],
   "source": [
    "# 处理trim\n",
    "stringIndexer = StringIndexer(inputCol=\"trim\", outputCol=\"trim_index\")\n",
    "indexedData = stringIndexer.fit(data).transform(data)\n",
    "indexedData = indexedData.withColumn(\"trim_index\", col(\"trim_index\").cast(IntegerType()))\n",
    "indexedData = indexedData.withColumn(\"trim\", col(\"trim_index\")).drop(\"trim_index\")\n",
    "\n",
    "data = indexedData\n",
    "data.show()"
   ]
  },
  {
   "cell_type": "code",
   "execution_count": 11,
   "metadata": {},
   "outputs": [
    {
     "name": "stdout",
     "output_type": "stream",
     "text": [
      "+----+----+-----+----+----+------------+-----------------+-----+---------+--------+------+--------+--------------------+-------+------------+--------------------+\n",
      "|year|make|model|trim|body|transmission|              vin|state|condition|odometer| color|interior|              seller|    mmr|sellingprice|            saledate|\n",
      "+----+----+-----+----+----+------------+-----------------+-----+---------+--------+------+--------+--------------------+-------+------------+--------------------+\n",
      "|2015|   8|   40|   2|   1|           0|5xyktca69fg566472|    1|      5.0| 16639.0| white|   black|kia motors americ...|20500.0|     21500.0|Tue Dec 16 2014 1...|\n",
      "|2015|   8|   40|   2|   1|           0|5xyktca69fg561319|    1|      5.0|  9393.0| white|   beige|kia motors americ...|20800.0|     21500.0|Tue Dec 16 2014 1...|\n",
      "|2014|   7|    8| 636|   0|           0|wba3c1c51ek116351|    1|     45.0|  1331.0|  gray|   black|financial service...|31900.0|     30000.0|Thu Jan 15 2015 0...|\n",
      "|2015|  26|  127|  91|   0|           0|yv1612tb4f1310987|    1|     41.0| 14282.0| white|   black|volvo na rep/worl...|27500.0|     27750.0|Thu Jan 29 2015 0...|\n",
      "|2014|   7|  398| 139|   0|           0|wba6b2c57ed129731|    1|     43.0|  2641.0|  gray|   black|financial service...|66000.0|     67000.0|Thu Dec 18 2014 1...|\n",
      "|2015|   2|    0|  12|   0|           0|1n4al3ap1fn326013|    1|      1.0|  5554.0|  gray|   black|enterprise vehicl...|15350.0|     10900.0|Tue Dec 30 2014 1...|\n",
      "|2014|   7|  406|   0|   0|           0|wbsfv9c51ed593089|    1|     34.0| 14943.0| black|   black|the hertz corpora...|69000.0|     65000.0|Wed Dec 17 2014 1...|\n",
      "|2014|   1|   18|  31|   0|           0|1g1pc5sb2e7128460|    1|      2.0| 28617.0| black|   black|enterprise vehicl...|11900.0|      9800.0|Tue Dec 16 2014 1...|\n",
      "|2014|  19|   61| 205|   0|           0|wauffafl3en030343|    1|     42.0|  9557.0| white|   black|  audi mission viejo|32100.0|     32250.0|Thu Dec 18 2014 1...|\n",
      "|2014|   1|   64|   4|   9|           0|2g1fb3d37e9218789|    1|      3.0|  4809.0|   red|   black|  d/m auto sales inc|26300.0|     17500.0|Tue Jan 20 2015 0...|\n",
      "|2014|  19|  150| 726|   0|           0|wauhgafc0en062916|    1|     48.0| 14414.0| black|   black|   desert auto trade|47300.0|     49750.0|Tue Dec 16 2014 1...|\n",
      "|2015|   8|   31|   2|   0|           0|5xxgm4a73fg353538|    1|     48.0|  2034.0|   red|     tan|  kia motors finance|15150.0|     17700.0|Tue Dec 16 2014 1...|\n",
      "|2015|   0|    1|   1|   0|           0|3fa6p0hdxfr145753|    1|      2.0|  5559.0| white|   beige|enterprise vehicl...|15350.0|     12000.0|Tue Jan 13 2015 1...|\n",
      "|2015|   8|   40|   2|   1|           0|5xyktca66fg561407|    1|      5.0| 14634.0|silver|   black|kia motors americ...|20600.0|     21500.0|Tue Dec 16 2014 1...|\n",
      "|2015|   2|    0|  12|   0|           0|1n4al3ap5fc124223|    1|      2.0| 11398.0| black|   black|enterprise vehicl...|14750.0|     14100.0|Tue Dec 23 2014 1...|\n",
      "|2014|  19|  200| 205|   1|           0|wa1lfafpxea085074|    1|     49.0|  7983.0| white|   black|audi north scotts...|37100.0|     40000.0|Thu Dec 18 2014 1...|\n",
      "|2014|   1|   64|   6|   6|           0|2g1fa1e39e9134494|    1|     17.0| 13441.0| black|   black|wells fargo deale...|17750.0|     17000.0|Tue Dec 30 2014 1...|\n",
      "|2014|   7|  155| 139|   9|           0|wbayp9c53ed169260|    1|     34.0|  8819.0| black|   black|the hertz corpora...|68000.0|     67200.0|Wed Dec 17 2014 1...|\n",
      "|2015|   1|    7|  19|   0|           0|2g1165s30f9103921|    1|     19.0| 14538.0|silver|   black|enterprise vehicl...|24300.0|      7200.0|Tue Jul 07 2015 0...|\n",
      "|2014|   7|   34|  68|   0|           0|wba5a5c51ed501631|    1|     29.0| 25969.0| black|   black|financial service...|34200.0|     30000.0|Tue Feb 03 2015 0...|\n",
      "+----+----+-----+----+----+------------+-----------------+-----+---------+--------+------+--------+--------------------+-------+------------+--------------------+\n",
      "only showing top 20 rows\n",
      "\n"
     ]
    }
   ],
   "source": [
    "# 处理body\n",
    "stringIndexer = StringIndexer(inputCol=\"body\", outputCol=\"body_index\")\n",
    "indexedData = stringIndexer.fit(data).transform(data)\n",
    "indexedData = indexedData.withColumn(\"body_index\", col(\"body_index\").cast(IntegerType()))\n",
    "indexedData = indexedData.withColumn(\"body\", col(\"body_index\")).drop(\"body_index\")\n",
    "\n",
    "data = indexedData\n",
    "data.show()"
   ]
  },
  {
   "cell_type": "code",
   "execution_count": 12,
   "metadata": {},
   "outputs": [
    {
     "name": "stdout",
     "output_type": "stream",
     "text": [
      "+----+----+-----+----+----+------------+-----------------+-----+---------+--------+-----+--------+--------------------+-------+------------+--------------------+\n",
      "|year|make|model|trim|body|transmission|              vin|state|condition|odometer|color|interior|              seller|    mmr|sellingprice|            saledate|\n",
      "+----+----+-----+----+----+------------+-----------------+-----+---------+--------+-----+--------+--------------------+-------+------------+--------------------+\n",
      "|2015|   8|   40|   2|   1|           0|5xyktca69fg566472|    1|      5.0| 16639.0|    1|   black|kia motors americ...|20500.0|     21500.0|Tue Dec 16 2014 1...|\n",
      "|2015|   8|   40|   2|   1|           0|5xyktca69fg561319|    1|      5.0|  9393.0|    1|   beige|kia motors americ...|20800.0|     21500.0|Tue Dec 16 2014 1...|\n",
      "|2014|   7|    8| 636|   0|           0|wba3c1c51ek116351|    1|     45.0|  1331.0|    3|   black|financial service...|31900.0|     30000.0|Thu Jan 15 2015 0...|\n",
      "|2015|  26|  127|  91|   0|           0|yv1612tb4f1310987|    1|     41.0| 14282.0|    1|   black|volvo na rep/worl...|27500.0|     27750.0|Thu Jan 29 2015 0...|\n",
      "|2014|   7|  398| 139|   0|           0|wba6b2c57ed129731|    1|     43.0|  2641.0|    3|   black|financial service...|66000.0|     67000.0|Thu Dec 18 2014 1...|\n",
      "|2015|   2|    0|  12|   0|           0|1n4al3ap1fn326013|    1|      1.0|  5554.0|    3|   black|enterprise vehicl...|15350.0|     10900.0|Tue Dec 30 2014 1...|\n",
      "|2014|   7|  406|   0|   0|           0|wbsfv9c51ed593089|    1|     34.0| 14943.0|    0|   black|the hertz corpora...|69000.0|     65000.0|Wed Dec 17 2014 1...|\n",
      "|2014|   1|   18|  31|   0|           0|1g1pc5sb2e7128460|    1|      2.0| 28617.0|    0|   black|enterprise vehicl...|11900.0|      9800.0|Tue Dec 16 2014 1...|\n",
      "|2014|  19|   61| 205|   0|           0|wauffafl3en030343|    1|     42.0|  9557.0|    1|   black|  audi mission viejo|32100.0|     32250.0|Thu Dec 18 2014 1...|\n",
      "|2014|   1|   64|   4|   9|           0|2g1fb3d37e9218789|    1|      3.0|  4809.0|    5|   black|  d/m auto sales inc|26300.0|     17500.0|Tue Jan 20 2015 0...|\n",
      "|2014|  19|  150| 726|   0|           0|wauhgafc0en062916|    1|     48.0| 14414.0|    0|   black|   desert auto trade|47300.0|     49750.0|Tue Dec 16 2014 1...|\n",
      "|2015|   8|   31|   2|   0|           0|5xxgm4a73fg353538|    1|     48.0|  2034.0|    5|     tan|  kia motors finance|15150.0|     17700.0|Tue Dec 16 2014 1...|\n",
      "|2015|   0|    1|   1|   0|           0|3fa6p0hdxfr145753|    1|      2.0|  5559.0|    1|   beige|enterprise vehicl...|15350.0|     12000.0|Tue Jan 13 2015 1...|\n",
      "|2015|   8|   40|   2|   1|           0|5xyktca66fg561407|    1|      5.0| 14634.0|    2|   black|kia motors americ...|20600.0|     21500.0|Tue Dec 16 2014 1...|\n",
      "|2015|   2|    0|  12|   0|           0|1n4al3ap5fc124223|    1|      2.0| 11398.0|    0|   black|enterprise vehicl...|14750.0|     14100.0|Tue Dec 23 2014 1...|\n",
      "|2014|  19|  200| 205|   1|           0|wa1lfafpxea085074|    1|     49.0|  7983.0|    1|   black|audi north scotts...|37100.0|     40000.0|Thu Dec 18 2014 1...|\n",
      "|2014|   1|   64|   6|   6|           0|2g1fa1e39e9134494|    1|     17.0| 13441.0|    0|   black|wells fargo deale...|17750.0|     17000.0|Tue Dec 30 2014 1...|\n",
      "|2014|   7|  155| 139|   9|           0|wbayp9c53ed169260|    1|     34.0|  8819.0|    0|   black|the hertz corpora...|68000.0|     67200.0|Wed Dec 17 2014 1...|\n",
      "|2015|   1|    7|  19|   0|           0|2g1165s30f9103921|    1|     19.0| 14538.0|    2|   black|enterprise vehicl...|24300.0|      7200.0|Tue Jul 07 2015 0...|\n",
      "|2014|   7|   34|  68|   0|           0|wba5a5c51ed501631|    1|     29.0| 25969.0|    0|   black|financial service...|34200.0|     30000.0|Tue Feb 03 2015 0...|\n",
      "+----+----+-----+----+----+------------+-----------------+-----+---------+--------+-----+--------+--------------------+-------+------------+--------------------+\n",
      "only showing top 20 rows\n",
      "\n"
     ]
    }
   ],
   "source": [
    "# 处理color\n",
    "stringIndexer = StringIndexer(inputCol=\"color\", outputCol=\"color_index\")\n",
    "indexedData = stringIndexer.fit(data).transform(data)\n",
    "indexedData = indexedData.withColumn(\"color_index\", col(\"color_index\").cast(IntegerType()))\n",
    "indexedData = indexedData.withColumn(\"color\", col(\"color_index\")).drop(\"color_index\")\n",
    "\n",
    "data = indexedData\n",
    "data.show()"
   ]
  },
  {
   "cell_type": "code",
   "execution_count": 13,
   "metadata": {},
   "outputs": [
    {
     "name": "stdout",
     "output_type": "stream",
     "text": [
      "+----+----+-----+----+----+------------+-----------------+-----+---------+--------+-----+--------+--------------------+-------+------------+--------------------+\n",
      "|year|make|model|trim|body|transmission|              vin|state|condition|odometer|color|interior|              seller|    mmr|sellingprice|            saledate|\n",
      "+----+----+-----+----+----+------------+-----------------+-----+---------+--------+-----+--------+--------------------+-------+------------+--------------------+\n",
      "|2015|   8|   40|   2|   1|           0|5xyktca69fg566472|    1|      5.0| 16639.0|    1|       0|kia motors americ...|20500.0|     21500.0|Tue Dec 16 2014 1...|\n",
      "|2015|   8|   40|   2|   1|           0|5xyktca69fg561319|    1|      5.0|  9393.0|    1|       2|kia motors americ...|20800.0|     21500.0|Tue Dec 16 2014 1...|\n",
      "|2014|   7|    8| 636|   0|           0|wba3c1c51ek116351|    1|     45.0|  1331.0|    3|       0|financial service...|31900.0|     30000.0|Thu Jan 15 2015 0...|\n",
      "|2015|  26|  127|  91|   0|           0|yv1612tb4f1310987|    1|     41.0| 14282.0|    1|       0|volvo na rep/worl...|27500.0|     27750.0|Thu Jan 29 2015 0...|\n",
      "|2014|   7|  398| 139|   0|           0|wba6b2c57ed129731|    1|     43.0|  2641.0|    3|       0|financial service...|66000.0|     67000.0|Thu Dec 18 2014 1...|\n",
      "|2015|   2|    0|  12|   0|           0|1n4al3ap1fn326013|    1|      1.0|  5554.0|    3|       0|enterprise vehicl...|15350.0|     10900.0|Tue Dec 30 2014 1...|\n",
      "|2014|   7|  406|   0|   0|           0|wbsfv9c51ed593089|    1|     34.0| 14943.0|    0|       0|the hertz corpora...|69000.0|     65000.0|Wed Dec 17 2014 1...|\n",
      "|2014|   1|   18|  31|   0|           0|1g1pc5sb2e7128460|    1|      2.0| 28617.0|    0|       0|enterprise vehicl...|11900.0|      9800.0|Tue Dec 16 2014 1...|\n",
      "|2014|  19|   61| 205|   0|           0|wauffafl3en030343|    1|     42.0|  9557.0|    1|       0|  audi mission viejo|32100.0|     32250.0|Thu Dec 18 2014 1...|\n",
      "|2014|   1|   64|   4|   9|           0|2g1fb3d37e9218789|    1|      3.0|  4809.0|    5|       0|  d/m auto sales inc|26300.0|     17500.0|Tue Jan 20 2015 0...|\n",
      "|2014|  19|  150| 726|   0|           0|wauhgafc0en062916|    1|     48.0| 14414.0|    0|       0|   desert auto trade|47300.0|     49750.0|Tue Dec 16 2014 1...|\n",
      "|2015|   8|   31|   2|   0|           0|5xxgm4a73fg353538|    1|     48.0|  2034.0|    5|       3|  kia motors finance|15150.0|     17700.0|Tue Dec 16 2014 1...|\n",
      "|2015|   0|    1|   1|   0|           0|3fa6p0hdxfr145753|    1|      2.0|  5559.0|    1|       2|enterprise vehicl...|15350.0|     12000.0|Tue Jan 13 2015 1...|\n",
      "|2015|   8|   40|   2|   1|           0|5xyktca66fg561407|    1|      5.0| 14634.0|    2|       0|kia motors americ...|20600.0|     21500.0|Tue Dec 16 2014 1...|\n",
      "|2015|   2|    0|  12|   0|           0|1n4al3ap5fc124223|    1|      2.0| 11398.0|    0|       0|enterprise vehicl...|14750.0|     14100.0|Tue Dec 23 2014 1...|\n",
      "|2014|  19|  200| 205|   1|           0|wa1lfafpxea085074|    1|     49.0|  7983.0|    1|       0|audi north scotts...|37100.0|     40000.0|Thu Dec 18 2014 1...|\n",
      "|2014|   1|   64|   6|   6|           0|2g1fa1e39e9134494|    1|     17.0| 13441.0|    0|       0|wells fargo deale...|17750.0|     17000.0|Tue Dec 30 2014 1...|\n",
      "|2014|   7|  155| 139|   9|           0|wbayp9c53ed169260|    1|     34.0|  8819.0|    0|       0|the hertz corpora...|68000.0|     67200.0|Wed Dec 17 2014 1...|\n",
      "|2015|   1|    7|  19|   0|           0|2g1165s30f9103921|    1|     19.0| 14538.0|    2|       0|enterprise vehicl...|24300.0|      7200.0|Tue Jul 07 2015 0...|\n",
      "|2014|   7|   34|  68|   0|           0|wba5a5c51ed501631|    1|     29.0| 25969.0|    0|       0|financial service...|34200.0|     30000.0|Tue Feb 03 2015 0...|\n",
      "+----+----+-----+----+----+------------+-----------------+-----+---------+--------+-----+--------+--------------------+-------+------------+--------------------+\n",
      "only showing top 20 rows\n",
      "\n"
     ]
    }
   ],
   "source": [
    "# 处理interior\n",
    "stringIndexer = StringIndexer(inputCol=\"interior\", outputCol=\"interior_index\")\n",
    "indexedData = stringIndexer.fit(data).transform(data)\n",
    "indexedData = indexedData.withColumn(\"interior_index\", col(\"interior_index\").cast(IntegerType()))\n",
    "indexedData = indexedData.withColumn(\"interior\", col(\"interior_index\")).drop(\"interior_index\")\n",
    "\n",
    "data = indexedData\n",
    "data.show()"
   ]
  },
  {
   "cell_type": "code",
   "execution_count": 14,
   "metadata": {},
   "outputs": [
    {
     "name": "stdout",
     "output_type": "stream",
     "text": [
      "+----+----+-----+----+----+------------+-----------------+-----+---------+--------+-----+--------+------+-------+------------+--------------------+\n",
      "|year|make|model|trim|body|transmission|              vin|state|condition|odometer|color|interior|seller|    mmr|sellingprice|            saledate|\n",
      "+----+----+-----+----+----+------------+-----------------+-----+---------+--------+-----+--------+------+-------+------------+--------------------+\n",
      "|2015|   8|   40|   2|   1|           0|5xyktca69fg566472|    1|      5.0| 16639.0|    1|       0|    23|20500.0|     21500.0|Tue Dec 16 2014 1...|\n",
      "|2015|   8|   40|   2|   1|           0|5xyktca69fg561319|    1|      5.0|  9393.0|    1|       2|    23|20800.0|     21500.0|Tue Dec 16 2014 1...|\n",
      "|2014|   7|    8| 636|   0|           0|wba3c1c51ek116351|    1|     45.0|  1331.0|    3|       0|    14|31900.0|     30000.0|Thu Jan 15 2015 0...|\n",
      "|2015|  26|  127|  91|   0|           0|yv1612tb4f1310987|    1|     41.0| 14282.0|    1|       0|   123|27500.0|     27750.0|Thu Jan 29 2015 0...|\n",
      "|2014|   7|  398| 139|   0|           0|wba6b2c57ed129731|    1|     43.0|  2641.0|    3|       0|    14|66000.0|     67000.0|Thu Dec 18 2014 1...|\n",
      "|2015|   2|    0|  12|   0|           0|1n4al3ap1fn326013|    1|      1.0|  5554.0|    3|       0|    34|15350.0|     10900.0|Tue Dec 30 2014 1...|\n",
      "|2014|   7|  406|   0|   0|           0|wbsfv9c51ed593089|    1|     34.0| 14943.0|    0|       0|     1|69000.0|     65000.0|Wed Dec 17 2014 1...|\n",
      "|2014|   1|   18|  31|   0|           0|1g1pc5sb2e7128460|    1|      2.0| 28617.0|    0|       0|    34|11900.0|      9800.0|Tue Dec 16 2014 1...|\n",
      "|2014|  19|   61| 205|   0|           0|wauffafl3en030343|    1|     42.0|  9557.0|    1|       0|  2950|32100.0|     32250.0|Thu Dec 18 2014 1...|\n",
      "|2014|   1|   64|   4|   9|           0|2g1fb3d37e9218789|    1|      3.0|  4809.0|    5|       0|  8895|26300.0|     17500.0|Tue Jan 20 2015 0...|\n",
      "|2014|  19|  150| 726|   0|           0|wauhgafc0en062916|    1|     48.0| 14414.0|    0|       0|   404|47300.0|     49750.0|Tue Dec 16 2014 1...|\n",
      "|2015|   8|   31|   2|   0|           0|5xxgm4a73fg353538|    1|     48.0|  2034.0|    5|       3|    43|15150.0|     17700.0|Tue Dec 16 2014 1...|\n",
      "|2015|   0|    1|   1|   0|           0|3fa6p0hdxfr145753|    1|      2.0|  5559.0|    1|       2|    34|15350.0|     12000.0|Tue Jan 13 2015 1...|\n",
      "|2015|   8|   40|   2|   1|           0|5xyktca66fg561407|    1|      5.0| 14634.0|    2|       0|    23|20600.0|     21500.0|Tue Dec 16 2014 1...|\n",
      "|2015|   2|    0|  12|   0|           0|1n4al3ap5fc124223|    1|      2.0| 11398.0|    0|       0|    34|14750.0|     14100.0|Tue Dec 23 2014 1...|\n",
      "|2014|  19|  200| 205|   1|           0|wa1lfafpxea085074|    1|     49.0|  7983.0|    1|       0|  1151|37100.0|     40000.0|Thu Dec 18 2014 1...|\n",
      "|2014|   1|   64|   6|   6|           0|2g1fa1e39e9134494|    1|     17.0| 13441.0|    0|       0|     6|17750.0|     17000.0|Tue Dec 30 2014 1...|\n",
      "|2014|   7|  155| 139|   9|           0|wbayp9c53ed169260|    1|     34.0|  8819.0|    0|       0|     1|68000.0|     67200.0|Wed Dec 17 2014 1...|\n",
      "|2015|   1|    7|  19|   0|           0|2g1165s30f9103921|    1|     19.0| 14538.0|    2|       0|    34|24300.0|      7200.0|Tue Jul 07 2015 0...|\n",
      "|2014|   7|   34|  68|   0|           0|wba5a5c51ed501631|    1|     29.0| 25969.0|    0|       0|    14|34200.0|     30000.0|Tue Feb 03 2015 0...|\n",
      "+----+----+-----+----+----+------------+-----------------+-----+---------+--------+-----+--------+------+-------+------------+--------------------+\n",
      "only showing top 20 rows\n",
      "\n"
     ]
    }
   ],
   "source": [
    "# 处理seller\n",
    "stringIndexer = StringIndexer(inputCol=\"seller\", outputCol=\"seller_index\")\n",
    "indexedData = stringIndexer.fit(data).transform(data)\n",
    "indexedData = indexedData.withColumn(\"seller_index\", col(\"seller_index\").cast(IntegerType()))\n",
    "indexedData = indexedData.withColumn(\"seller\", col(\"seller_index\")).drop(\"seller_index\")\n",
    "\n",
    "data = indexedData\n",
    "data.show()"
   ]
  },
  {
   "cell_type": "code",
   "execution_count": 15,
   "metadata": {},
   "outputs": [
    {
     "name": "stdout",
     "output_type": "stream",
     "text": [
      "Tue Dec 16 2014 12:30:00 GMT-0800 (PST)\n",
      "Tue Dec 16 2014 12:30:00 GMT-0800 (PST)\n",
      "Thu Jan 15 2015 04:30:00 GMT-0800 (PST)\n",
      "Thu Jan 29 2015 04:30:00 GMT-0800 (PST)\n",
      "Thu Dec 18 2014 12:30:00 GMT-0800 (PST)\n",
      "Tue Dec 30 2014 12:00:00 GMT-0800 (PST)\n",
      "Wed Dec 17 2014 12:30:00 GMT-0800 (PST)\n",
      "Tue Dec 16 2014 13:00:00 GMT-0800 (PST)\n",
      "Thu Dec 18 2014 12:00:00 GMT-0800 (PST)\n",
      "Tue Jan 20 2015 04:00:00 GMT-0800 (PST)\n"
     ]
    }
   ],
   "source": [
    "# 显示\"saledate\"列的前10条数据\n",
    "saledate_data = data.select(\"saledate\").head(10)\n",
    "\n",
    "# 打印前10条数据\n",
    "for row in saledate_data:\n",
    "    print(row.saledate)"
   ]
  },
  {
   "cell_type": "code",
   "execution_count": 16,
   "metadata": {},
   "outputs": [
    {
     "name": "stdout",
     "output_type": "stream",
     "text": [
      "+----+----+-----+----+----+------------+-----+---------+--------+-----+--------+------+-------+------------+----------+\n",
      "|year|make|model|trim|body|transmission|state|condition|odometer|color|interior|seller|    mmr|sellingprice| timestamp|\n",
      "+----+----+-----+----+----+------------+-----+---------+--------+-----+--------+------+-------+------------+----------+\n",
      "|2015|   8|   40|   2|   1|           0|    1|      5.0| 16639.0|    1|       0|    23|20500.0|     21500.0|1418704200|\n",
      "|2015|   8|   40|   2|   1|           0|    1|      5.0|  9393.0|    1|       2|    23|20800.0|     21500.0|1418704200|\n",
      "|2014|   7|    8| 636|   0|           0|    1|     45.0|  1331.0|    3|       0|    14|31900.0|     30000.0|1421267400|\n",
      "|2015|  26|  127|  91|   0|           0|    1|     41.0| 14282.0|    1|       0|   123|27500.0|     27750.0|1422477000|\n",
      "|2014|   7|  398| 139|   0|           0|    1|     43.0|  2641.0|    3|       0|    14|66000.0|     67000.0|1418877000|\n",
      "|2015|   2|    0|  12|   0|           0|    1|      1.0|  5554.0|    3|       0|    34|15350.0|     10900.0|1419912000|\n",
      "|2014|   7|  406|   0|   0|           0|    1|     34.0| 14943.0|    0|       0|     1|69000.0|     65000.0|1418790600|\n",
      "|2014|   1|   18|  31|   0|           0|    1|      2.0| 28617.0|    0|       0|    34|11900.0|      9800.0|1418706000|\n",
      "|2014|  19|   61| 205|   0|           0|    1|     42.0|  9557.0|    1|       0|  2950|32100.0|     32250.0|1418875200|\n",
      "|2014|   1|   64|   4|   9|           0|    1|      3.0|  4809.0|    5|       0|  8895|26300.0|     17500.0|1421697600|\n",
      "|2014|  19|  150| 726|   0|           0|    1|     48.0| 14414.0|    0|       0|   404|47300.0|     49750.0|1418704200|\n",
      "|2015|   8|   31|   2|   0|           0|    1|     48.0|  2034.0|    5|       3|    43|15150.0|     17700.0|1418702400|\n",
      "|2015|   0|    1|   1|   0|           0|    1|      2.0|  5559.0|    1|       2|    34|15350.0|     12000.0|1421121600|\n",
      "|2015|   8|   40|   2|   1|           0|    1|      5.0| 14634.0|    2|       0|    23|20600.0|     21500.0|1418704200|\n",
      "|2015|   2|    0|  12|   0|           0|    1|      2.0| 11398.0|    0|       0|    34|14750.0|     14100.0|1419307200|\n",
      "|2014|  19|  200| 205|   1|           0|    1|     49.0|  7983.0|    1|       0|  1151|37100.0|     40000.0|1418877000|\n",
      "|2014|   1|   64|   6|   6|           0|    1|     17.0| 13441.0|    0|       0|     6|17750.0|     17000.0|1419922800|\n",
      "|2014|   7|  155| 139|   9|           0|    1|     34.0|  8819.0|    0|       0|     1|68000.0|     67200.0|1418790600|\n",
      "|2015|   1|    7|  19|   0|           0|    1|     19.0| 14538.0|    2|       0|    34|24300.0|      7200.0|1436232600|\n",
      "|2014|   7|   34|  68|   0|           0|    1|     29.0| 25969.0|    0|       0|    14|34200.0|     30000.0|1422909000|\n",
      "+----+----+-----+----+----+------------+-----+---------+--------+-----+--------+------+-------+------------+----------+\n",
      "only showing top 20 rows\n",
      "\n"
     ]
    }
   ],
   "source": [
    "from pyspark.sql.functions import substring, unix_timestamp\n",
    "\n",
    "# 将\"timestamp_string\"列转换为Unix时间戳\n",
    "data = data.withColumn(\"timestamp_string\", substring(\"saledate\", 5, 20))\n",
    "data = data.withColumn(\"timestamp\", unix_timestamp(\"timestamp_string\", \"MMM dd yyyy HH:mm:ss\"))\n",
    "\n",
    "data = data.drop('saledate')\n",
    "data = data.drop('timestamp_string')\n",
    "data = data.drop('vin')\n",
    "\n",
    "# 查看转换后的数据\n",
    "data.show()"
   ]
  },
  {
   "cell_type": "code",
   "execution_count": 17,
   "metadata": {},
   "outputs": [
    {
     "name": "stdout",
     "output_type": "stream",
     "text": [
      "+----+----+-----+----+----+------------+-----+---------+--------+-----+--------+------+-------+------------+---------+\n",
      "|year|make|model|trim|body|transmission|state|condition|odometer|color|interior|seller|    mmr|sellingprice|timestamp|\n",
      "+----+----+-----+----+----+------------+-----+---------+--------+-----+--------+------+-------+------------+---------+\n",
      "|2015|   8|   40|   2|   1|           0|    1|      5.0| 16639.0|    1|       0|    23|20500.0|     21500.0| 14187042|\n",
      "|2015|   8|   40|   2|   1|           0|    1|      5.0|  9393.0|    1|       2|    23|20800.0|     21500.0| 14187042|\n",
      "|2014|   7|    8| 636|   0|           0|    1|     45.0|  1331.0|    3|       0|    14|31900.0|     30000.0| 14212674|\n",
      "|2015|  26|  127|  91|   0|           0|    1|     41.0| 14282.0|    1|       0|   123|27500.0|     27750.0| 14224770|\n",
      "|2014|   7|  398| 139|   0|           0|    1|     43.0|  2641.0|    3|       0|    14|66000.0|     67000.0| 14188770|\n",
      "|2015|   2|    0|  12|   0|           0|    1|      1.0|  5554.0|    3|       0|    34|15350.0|     10900.0| 14199120|\n",
      "|2014|   7|  406|   0|   0|           0|    1|     34.0| 14943.0|    0|       0|     1|69000.0|     65000.0| 14187906|\n",
      "|2014|   1|   18|  31|   0|           0|    1|      2.0| 28617.0|    0|       0|    34|11900.0|      9800.0| 14187060|\n",
      "|2014|  19|   61| 205|   0|           0|    1|     42.0|  9557.0|    1|       0|  2950|32100.0|     32250.0| 14188752|\n",
      "|2014|   1|   64|   4|   9|           0|    1|      3.0|  4809.0|    5|       0|  8895|26300.0|     17500.0| 14216976|\n",
      "|2014|  19|  150| 726|   0|           0|    1|     48.0| 14414.0|    0|       0|   404|47300.0|     49750.0| 14187042|\n",
      "|2015|   8|   31|   2|   0|           0|    1|     48.0|  2034.0|    5|       3|    43|15150.0|     17700.0| 14187024|\n",
      "|2015|   0|    1|   1|   0|           0|    1|      2.0|  5559.0|    1|       2|    34|15350.0|     12000.0| 14211216|\n",
      "|2015|   8|   40|   2|   1|           0|    1|      5.0| 14634.0|    2|       0|    23|20600.0|     21500.0| 14187042|\n",
      "|2015|   2|    0|  12|   0|           0|    1|      2.0| 11398.0|    0|       0|    34|14750.0|     14100.0| 14193072|\n",
      "|2014|  19|  200| 205|   1|           0|    1|     49.0|  7983.0|    1|       0|  1151|37100.0|     40000.0| 14188770|\n",
      "|2014|   1|   64|   6|   6|           0|    1|     17.0| 13441.0|    0|       0|     6|17750.0|     17000.0| 14199228|\n",
      "|2014|   7|  155| 139|   9|           0|    1|     34.0|  8819.0|    0|       0|     1|68000.0|     67200.0| 14187906|\n",
      "|2015|   1|    7|  19|   0|           0|    1|     19.0| 14538.0|    2|       0|    34|24300.0|      7200.0| 14362326|\n",
      "|2014|   7|   34|  68|   0|           0|    1|     29.0| 25969.0|    0|       0|    14|34200.0|     30000.0| 14229090|\n",
      "+----+----+-----+----+----+------------+-----+---------+--------+-----+--------+------+-------+------------+---------+\n",
      "only showing top 20 rows\n",
      "\n"
     ]
    }
   ],
   "source": [
    "# 将\"timestamp\"列丢弃末两位\n",
    "data = data.withColumn(\"timestamp_str\", data[\"timestamp\"].cast(\"string\"))\n",
    "data = data.withColumn(\"timestamp_str_truncated\", substring(\"timestamp_str\", 0, 8))\n",
    "data = data.withColumn(\"timestamp_int\", data[\"timestamp_str_truncated\"].cast(\"integer\"))\n",
    "\n",
    "data = data.drop('timestamp_str')\n",
    "data = data.drop('timestamp_str_truncated')\n",
    "data = data.drop('timestamp')\n",
    "data = data.withColumnRenamed(\"timestamp_int\", \"timestamp\")\n",
    "\n",
    "\n",
    "data.show()"
   ]
  },
  {
   "cell_type": "code",
   "execution_count": 18,
   "metadata": {},
   "outputs": [
    {
     "name": "stdout",
     "output_type": "stream",
     "text": [
      "root\n",
      " |-- year: integer (nullable = true)\n",
      " |-- make: integer (nullable = true)\n",
      " |-- model: integer (nullable = true)\n",
      " |-- trim: integer (nullable = true)\n",
      " |-- body: integer (nullable = true)\n",
      " |-- transmission: integer (nullable = true)\n",
      " |-- state: integer (nullable = true)\n",
      " |-- condition: double (nullable = true)\n",
      " |-- odometer: double (nullable = true)\n",
      " |-- color: integer (nullable = true)\n",
      " |-- interior: integer (nullable = true)\n",
      " |-- seller: integer (nullable = true)\n",
      " |-- mmr: double (nullable = true)\n",
      " |-- sellingprice: double (nullable = true)\n",
      " |-- timestamp: integer (nullable = true)\n",
      "\n",
      "[('year', 'int'), ('make', 'int'), ('model', 'int'), ('trim', 'int'), ('body', 'int'), ('transmission', 'int'), ('state', 'int'), ('condition', 'double'), ('odometer', 'double'), ('color', 'int'), ('interior', 'int'), ('seller', 'int'), ('mmr', 'double'), ('sellingprice', 'double'), ('timestamp', 'int')]\n"
     ]
    }
   ],
   "source": [
    "data.printSchema()\n",
    "print(data.dtypes)"
   ]
  },
  {
   "cell_type": "code",
   "execution_count": 19,
   "metadata": {},
   "outputs": [],
   "source": [
    "# 1. 检查数据中是否存在 null 值\n",
    "null_cols = [col for col in data.columns if data.select(col).where(data[col].isNull()).count() > 0]\n",
    "if null_cols:\n",
    "    print(f\"Null values found in columns: {', '.join(null_cols)}\")"
   ]
  },
  {
   "cell_type": "code",
   "execution_count": 20,
   "metadata": {},
   "outputs": [
    {
     "name": "stdout",
     "output_type": "stream",
     "text": [
      "24/04/23 16:33:30 WARN package: Truncated the string representation of a plan since it was too large. This behavior can be adjusted by setting 'spark.sql.debug.maxToStringFields'.\n"
     ]
    },
    {
     "data": {
      "text/plain": [
       "[Row(year=2015, make=8, model=40, trim=2, body=1, transmission=0, state=1, condition=5.0, odometer=16639.0, color=1, interior=0, seller=23, mmr=20500.0, sellingprice=21500.0, timestamp=14187042, features=DenseVector([2015.0, 8.0, 40.0, 2.0, 1.0, 0.0, 1.0, 5.0, 16639.0, 1.0, 0.0, 23.0, 20500.0, 14187042.0]))]"
      ]
     },
     "execution_count": 20,
     "metadata": {},
     "output_type": "execute_result"
    }
   ],
   "source": [
    "from pyspark.ml.feature import VectorAssembler\n",
    "\n",
    "assembler = VectorAssembler(inputCols = ['year', 'make', 'model', 'trim','body', 'transmission', 'state', 'condition', 'odometer', 'color', 'interior', 'seller', 'mmr', 'timestamp'], outputCol = 'features')\n",
    "output = assembler.transform(data)\n",
    "output.take(1)"
   ]
  },
  {
   "cell_type": "code",
   "execution_count": 21,
   "metadata": {},
   "outputs": [
    {
     "name": "stdout",
     "output_type": "stream",
     "text": [
      "root\n",
      " |-- year: integer (nullable = true)\n",
      " |-- make: integer (nullable = true)\n",
      " |-- model: integer (nullable = true)\n",
      " |-- trim: integer (nullable = true)\n",
      " |-- body: integer (nullable = true)\n",
      " |-- transmission: integer (nullable = true)\n",
      " |-- state: integer (nullable = true)\n",
      " |-- condition: double (nullable = true)\n",
      " |-- odometer: double (nullable = true)\n",
      " |-- color: integer (nullable = true)\n",
      " |-- interior: integer (nullable = true)\n",
      " |-- seller: integer (nullable = true)\n",
      " |-- mmr: double (nullable = true)\n",
      " |-- sellingprice: double (nullable = true)\n",
      " |-- timestamp: integer (nullable = true)\n",
      " |-- features: vector (nullable = true)\n",
      "\n"
     ]
    }
   ],
   "source": [
    "output.printSchema()"
   ]
  },
  {
   "cell_type": "code",
   "execution_count": 22,
   "metadata": {},
   "outputs": [
    {
     "name": "stdout",
     "output_type": "stream",
     "text": [
      "+-------------------------------------------------------------------------------+------------+\n",
      "|features                                                                       |sellingprice|\n",
      "+-------------------------------------------------------------------------------+------------+\n",
      "|[2015.0,8.0,40.0,2.0,1.0,0.0,1.0,5.0,16639.0,1.0,0.0,23.0,20500.0,1.4187042E7] |21500.0     |\n",
      "|[2015.0,8.0,40.0,2.0,1.0,0.0,1.0,5.0,9393.0,1.0,2.0,23.0,20800.0,1.4187042E7]  |21500.0     |\n",
      "|[2014.0,7.0,8.0,636.0,0.0,0.0,1.0,45.0,1331.0,3.0,0.0,14.0,31900.0,1.4212674E7]|30000.0     |\n",
      "+-------------------------------------------------------------------------------+------------+\n",
      "only showing top 3 rows\n",
      "\n"
     ]
    }
   ],
   "source": [
    "final_data = output.select(['features', 'sellingprice'])\n",
    "final_data = final_data.dropna()\n",
    "final_data.show(3, truncate=False)"
   ]
  },
  {
   "cell_type": "code",
   "execution_count": 23,
   "metadata": {},
   "outputs": [
    {
     "name": "stdout",
     "output_type": "stream",
     "text": [
      "root\n",
      " |-- features: vector (nullable = true)\n",
      " |-- sellingprice: double (nullable = true)\n",
      "\n"
     ]
    }
   ],
   "source": [
    "final_data.printSchema()"
   ]
  },
  {
   "cell_type": "code",
   "execution_count": null,
   "metadata": {},
   "outputs": [],
   "source": [
    "final_data.describe().show()"
   ]
  },
  {
   "cell_type": "markdown",
   "metadata": {},
   "source": [
    "### Train-Test Split"
   ]
  },
  {
   "cell_type": "code",
   "execution_count": 24,
   "metadata": {},
   "outputs": [],
   "source": [
    "train, test = final_data.randomSplit([0.8,0.2])"
   ]
  },
  {
   "cell_type": "markdown",
   "metadata": {},
   "source": [
    "### Utils"
   ]
  },
  {
   "cell_type": "code",
   "execution_count": 27,
   "metadata": {},
   "outputs": [],
   "source": [
    "from pyspark.ml.evaluation import RegressionEvaluator\n",
    "evaluator = RegressionEvaluator(labelCol=\"sellingprice\", predictionCol=\"prediction\")\n",
    "\n",
    "def evaluate(pred):\n",
    "    rmse = evaluator.evaluate(pred, {evaluator.metricName: \"rmse\"})\n",
    "    r2 = evaluator.evaluate(pred, {evaluator.metricName: \"r2\"})\n",
    "\n",
    "    return rmse, r2\n"
   ]
  },
  {
   "cell_type": "markdown",
   "metadata": {},
   "source": [
    "### Linear Regression"
   ]
  },
  {
   "cell_type": "code",
   "execution_count": 26,
   "metadata": {},
   "outputs": [
    {
     "name": "stdout",
     "output_type": "stream",
     "text": [
      "24/04/23 16:56:32 WARN Instrumentation: [2b8006f0] regParam is zero, which might cause numerical instability and overfitting.\n"
     ]
    },
    {
     "name": "stderr",
     "output_type": "stream",
     "text": [
      "[Stage 89:>                                                       (0 + 19) / 19]\r"
     ]
    },
    {
     "name": "stdout",
     "output_type": "stream",
     "text": [
      "24/04/23 16:56:34 WARN InstanceBuilder$NativeBLAS: Failed to load implementation from:dev.ludovic.netlib.blas.JNIBLAS\n",
      "24/04/23 16:56:34 WARN InstanceBuilder$NativeBLAS: Failed to load implementation from:dev.ludovic.netlib.blas.ForeignLinkerBLAS\n"
     ]
    },
    {
     "name": "stderr",
     "output_type": "stream",
     "text": [
      "                                                                                \r"
     ]
    },
    {
     "name": "stdout",
     "output_type": "stream",
     "text": [
      "24/04/23 16:56:34 WARN InstanceBuilder$NativeLAPACK: Failed to load implementation from:dev.ludovic.netlib.lapack.JNILAPACK\n"
     ]
    },
    {
     "name": "stderr",
     "output_type": "stream",
     "text": [
      "                                                                                \r"
     ]
    }
   ],
   "source": [
    "from pyspark.ml.regression import LinearRegression\n",
    "\n",
    "lr = LinearRegression(featuresCol='features', labelCol='sellingprice')\n",
    "lr_model = lr.fit(train)"
   ]
  },
  {
   "cell_type": "code",
   "execution_count": 30,
   "metadata": {},
   "outputs": [
    {
     "name": "stdout",
     "output_type": "stream",
     "text": [
      "+--------------------+------------+------------------+\n",
      "|            features|sellingprice|        prediction|\n",
      "+--------------------+------------+------------------+\n",
      "|(14,[0,1,2,7,8,11...|     13800.0| 13127.38850515896|\n",
      "|(14,[0,1,2,7,8,11...|     17800.0|16324.811220911142|\n",
      "|(14,[0,2,3,6,7,8,...|     13400.0|13387.499096099142|\n",
      "|(14,[0,2,3,6,7,8,...|     15900.0|15168.139189288602|\n",
      "|(14,[0,2,3,6,7,8,...|     17600.0|17693.486376644563|\n",
      "|(14,[0,2,3,6,7,8,...|     19300.0|18718.029868359416|\n",
      "|(14,[0,2,3,6,7,8,...|      9100.0| 9651.786257843516|\n",
      "|(14,[0,2,3,7,8,9,...|     11200.0|12847.570522258291|\n",
      "|(14,[0,2,3,7,8,9,...|     19200.0|17031.707015257605|\n",
      "|(14,[0,2,3,7,8,11...|     11500.0|12226.852300727638|\n",
      "+--------------------+------------+------------------+\n",
      "only showing top 10 rows\n",
      "\n"
     ]
    }
   ],
   "source": [
    "lr_predictions = lr_model.transform(test)\n",
    "lr_predictions.show(10)"
   ]
  },
  {
   "cell_type": "code",
   "execution_count": 32,
   "metadata": {},
   "outputs": [
    {
     "name": "stderr",
     "output_type": "stream",
     "text": [
      "                                                                                \r"
     ]
    },
    {
     "data": {
      "text/plain": [
       "(1652.3763049118988, 0.9704001648409633)"
      ]
     },
     "execution_count": 32,
     "metadata": {},
     "output_type": "execute_result"
    }
   ],
   "source": [
    "lr_rmse, lr_r2 = evaluate(lr_predictions)\n",
    "lr_rmse, lr_r2"
   ]
  },
  {
   "cell_type": "markdown",
   "metadata": {},
   "source": [
    "### Decision Tree"
   ]
  },
  {
   "cell_type": "code",
   "execution_count": 33,
   "metadata": {},
   "outputs": [
    {
     "name": "stderr",
     "output_type": "stream",
     "text": [
      "                                                                                \r"
     ]
    }
   ],
   "source": [
    "from pyspark.ml.regression import DecisionTreeRegressor\n",
    "\n",
    "dt = DecisionTreeRegressor(featuresCol='features', labelCol='sellingprice')\n",
    "dt_model = dt.fit(train)"
   ]
  },
  {
   "cell_type": "code",
   "execution_count": 34,
   "metadata": {},
   "outputs": [
    {
     "name": "stdout",
     "output_type": "stream",
     "text": [
      "+--------------------+------------+------------------+\n",
      "|            features|sellingprice|        prediction|\n",
      "+--------------------+------------+------------------+\n",
      "|(14,[0,1,2,7,8,11...|     13800.0|12137.778249882595|\n",
      "|(14,[0,1,2,7,8,11...|     17800.0|16497.701501771753|\n",
      "|(14,[0,2,3,6,7,8,...|     13400.0|12137.778249882595|\n",
      "|(14,[0,2,3,6,7,8,...|     15900.0| 14114.52932238553|\n",
      "|(14,[0,2,3,6,7,8,...|     17600.0|16497.701501771753|\n",
      "|(14,[0,2,3,6,7,8,...|     19300.0|18886.148238831614|\n",
      "|(14,[0,2,3,6,7,8,...|      9100.0| 9322.025377172844|\n",
      "|(14,[0,2,3,7,8,9,...|     11200.0|12137.778249882595|\n",
      "|(14,[0,2,3,7,8,9,...|     19200.0|16497.701501771753|\n",
      "|(14,[0,2,3,7,8,11...|     11500.0|12137.778249882595|\n",
      "+--------------------+------------+------------------+\n",
      "only showing top 10 rows\n",
      "\n"
     ]
    }
   ],
   "source": [
    "dt_predictions = dt_model.transform(test)\n",
    "dt_predictions.show(10)"
   ]
  },
  {
   "cell_type": "code",
   "execution_count": 36,
   "metadata": {},
   "outputs": [
    {
     "name": "stderr",
     "output_type": "stream",
     "text": [
      "                                                                                \r"
     ]
    },
    {
     "data": {
      "text/plain": [
       "(2487.757450980491, 0.9329054187593008)"
      ]
     },
     "execution_count": 36,
     "metadata": {},
     "output_type": "execute_result"
    }
   ],
   "source": [
    "dt_rmse, dt_r2 = evaluate(dt_predictions)\n",
    "dt_rmse, dt_r2"
   ]
  },
  {
   "cell_type": "markdown",
   "metadata": {},
   "source": [
    "### Random Forest"
   ]
  },
  {
   "cell_type": "code",
   "execution_count": 40,
   "metadata": {},
   "outputs": [
    {
     "name": "stderr",
     "output_type": "stream",
     "text": [
      "                                                                                \r"
     ]
    }
   ],
   "source": [
    "from pyspark.ml.regression import RandomForestRegressor\n",
    "\n",
    "rf = RandomForestRegressor(featuresCol='features', labelCol='sellingprice')\n",
    "rf_model = rf.fit(train)"
   ]
  },
  {
   "cell_type": "code",
   "execution_count": 41,
   "metadata": {},
   "outputs": [
    {
     "name": "stdout",
     "output_type": "stream",
     "text": [
      "+--------------------+------------+------------------+\n",
      "|            features|sellingprice|        prediction|\n",
      "+--------------------+------------+------------------+\n",
      "|(14,[0,1,2,7,8,11...|     13800.0|11502.019842857511|\n",
      "|(14,[0,1,2,7,8,11...|     17800.0|14136.184882140451|\n",
      "|(14,[0,2,3,6,7,8,...|     13400.0|13208.265514886763|\n",
      "|(14,[0,2,3,6,7,8,...|     15900.0|14298.971691516828|\n",
      "|(14,[0,2,3,6,7,8,...|     17600.0| 14995.26873292516|\n",
      "|(14,[0,2,3,6,7,8,...|     19300.0|18668.290276713567|\n",
      "|(14,[0,2,3,6,7,8,...|      9100.0| 11615.31538787431|\n",
      "|(14,[0,2,3,7,8,9,...|     11200.0|11750.879354513714|\n",
      "|(14,[0,2,3,7,8,9,...|     19200.0| 15347.23815934978|\n",
      "|(14,[0,2,3,7,8,11...|     11500.0| 11054.13890218836|\n",
      "+--------------------+------------+------------------+\n",
      "only showing top 10 rows\n",
      "\n"
     ]
    }
   ],
   "source": [
    "rf_predictions = rf_model.transform(test)\n",
    "rf_predictions.show(10)"
   ]
  },
  {
   "cell_type": "code",
   "execution_count": 43,
   "metadata": {},
   "outputs": [
    {
     "name": "stderr",
     "output_type": "stream",
     "text": [
      "                                                                                \r"
     ]
    },
    {
     "data": {
      "text/plain": [
       "(3146.2556264226287, 0.8926852580087221)"
      ]
     },
     "execution_count": 43,
     "metadata": {},
     "output_type": "execute_result"
    }
   ],
   "source": [
    "rf_rmse, rf_r2 = evaluate(rf_predictions)\n",
    "rf_rmse, rf_r2"
   ]
  },
  {
   "cell_type": "code",
   "execution_count": null,
   "metadata": {},
   "outputs": [],
   "source": []
  }
 ],
 "metadata": {
  "kernelspec": {
   "display_name": "Python 3",
   "language": "python",
   "name": "python3"
  },
  "language_info": {
   "codemirror_mode": {
    "name": "ipython",
    "version": 3
   },
   "file_extension": ".py",
   "mimetype": "text/x-python",
   "name": "python",
   "nbconvert_exporter": "python",
   "pygments_lexer": "ipython3",
   "version": "3.10.13"
  }
 },
 "nbformat": 4,
 "nbformat_minor": 2
}
