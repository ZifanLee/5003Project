{
 "cells": [
  {
   "cell_type": "code",
   "execution_count": 1,
   "metadata": {},
   "outputs": [
    {
     "name": "stderr",
     "output_type": "stream",
     "text": [
      "your 131072x1 screen size is bogus. expect trouble\n"
     ]
    },
    {
     "name": "stdout",
     "output_type": "stream",
     "text": [
      "24/04/27 18:02:20 WARN Utils: Your hostname, SIMON_WANG resolves to a loopback address: 127.0.1.1; using 172.26.38.52 instead (on interface eth0)\n",
      "24/04/27 18:02:20 WARN Utils: Set SPARK_LOCAL_IP if you need to bind to another address\n"
     ]
    },
    {
     "name": "stderr",
     "output_type": "stream",
     "text": [
      "Setting default log level to \"WARN\".\n",
      "To adjust logging level use sc.setLogLevel(newLevel). For SparkR, use setLogLevel(newLevel).\n"
     ]
    },
    {
     "name": "stdout",
     "output_type": "stream",
     "text": [
      "24/04/27 18:02:21 WARN NativeCodeLoader: Unable to load native-hadoop library for your platform... using builtin-java classes where applicable\n"
     ]
    }
   ],
   "source": [
    "from pyspark.sql import SparkSession\n",
    "from pyspark.sql.types import StructType, StructField, StringType, IntegerType\n",
    "from pyspark.sql import functions as F\n",
    "import os\n",
    "\n",
    "os.environ['PYSPARK_PYTHON'] = '/usr/local/bin/python3.9'\n",
    "\n",
    "spark = SparkSession.builder.appName(\"Spark_sql_test\").\\\n",
    "    master(\"local[*]\").\\\n",
    "    getOrCreate()\n",
    "\n",
    "sc = spark.sparkContext"
   ]
  },
  {
   "cell_type": "code",
   "execution_count": 2,
   "metadata": {},
   "outputs": [
    {
     "name": "stdout",
     "output_type": "stream",
     "text": [
      "root\n",
      " |-- year: string (nullable = true)\n",
      " |-- make: string (nullable = true)\n",
      " |-- model: string (nullable = true)\n",
      " |-- trim: string (nullable = true)\n",
      " |-- body: string (nullable = true)\n",
      " |-- transmission: string (nullable = true)\n",
      " |-- vin: string (nullable = true)\n",
      " |-- state: string (nullable = true)\n",
      " |-- condition: string (nullable = true)\n",
      " |-- odometer: string (nullable = true)\n",
      " |-- color: string (nullable = true)\n",
      " |-- interior: string (nullable = true)\n",
      " |-- seller: string (nullable = true)\n",
      " |-- mmr: string (nullable = true)\n",
      " |-- sellingprice: string (nullable = true)\n",
      " |-- saledate: string (nullable = true)\n",
      "\n",
      "+----+---------+-------------------+--------------------+-----------+------------+-----------------+-----+---------+--------+------+--------+--------------------+-------+------------+--------------------+\n",
      "|year|     make|              model|                trim|       body|transmission|              vin|state|condition|odometer| color|interior|              seller|    mmr|sellingprice|            saledate|\n",
      "+----+---------+-------------------+--------------------+-----------+------------+-----------------+-----+---------+--------+------+--------+--------------------+-------+------------+--------------------+\n",
      "|2015|      Kia|            Sorento|                  LX|        SUV|   automatic|5xyktca69fg566472|   ca|      5.0| 16639.0| white|   black|kia motors americ...|20500.0|     21500.0|Tue Dec 16 2014 1...|\n",
      "|2015|      Kia|            Sorento|                  LX|        SUV|   automatic|5xyktca69fg561319|   ca|      5.0|  9393.0| white|   beige|kia motors americ...|20800.0|     21500.0|Tue Dec 16 2014 1...|\n",
      "|2014|      BMW|           3 Series|          328i SULEV|      Sedan|   automatic|wba3c1c51ek116351|   ca|     45.0|  1331.0|  gray|   black|financial service...|31900.0|     30000.0|Thu Jan 15 2015 0...|\n",
      "|2015|    Volvo|                S60|                  T5|      Sedan|   automatic|yv1612tb4f1310987|   ca|     41.0| 14282.0| white|   black|volvo na rep/worl...|27500.0|     27750.0|Thu Jan 29 2015 0...|\n",
      "|2014|      BMW|6 Series Gran Coupe|                650i|      Sedan|   automatic|wba6b2c57ed129731|   ca|     43.0|  2641.0|  gray|   black|financial service...|66000.0|     67000.0|Thu Dec 18 2014 1...|\n",
      "|2015|   Nissan|             Altima|               2.5 S|      Sedan|   automatic|1n4al3ap1fn326013|   ca|      1.0|  5554.0|  gray|   black|enterprise vehicl...|15350.0|     10900.0|Tue Dec 30 2014 1...|\n",
      "|2014|      BMW|                 M5|                Base|      Sedan|   automatic|wbsfv9c51ed593089|   ca|     34.0| 14943.0| black|   black|the hertz corpora...|69000.0|     65000.0|Wed Dec 17 2014 1...|\n",
      "|2014|Chevrolet|              Cruze|                 1LT|      Sedan|   automatic|1g1pc5sb2e7128460|   ca|      2.0| 28617.0| black|   black|enterprise vehicl...|11900.0|      9800.0|Tue Dec 16 2014 1...|\n",
      "|2014|     Audi|                 A4|2.0T Premium Plus...|      Sedan|   automatic|wauffafl3en030343|   ca|     42.0|  9557.0| white|   black|  audi mission viejo|32100.0|     32250.0|Thu Dec 18 2014 1...|\n",
      "|2014|Chevrolet|             Camaro|                  LT|Convertible|   automatic|2g1fb3d37e9218789|   ca|      3.0|  4809.0|   red|   black|  d/m auto sales inc|26300.0|     17500.0|Tue Jan 20 2015 0...|\n",
      "|2014|     Audi|                 A6|3.0T Prestige qua...|      Sedan|   automatic|wauhgafc0en062916|   ca|     48.0| 14414.0| black|   black|   desert auto trade|47300.0|     49750.0|Tue Dec 16 2014 1...|\n",
      "|2015|      Kia|             Optima|                  LX|      Sedan|   automatic|5xxgm4a73fg353538|   ca|     48.0|  2034.0|   red|     tan|  kia motors finance|15150.0|     17700.0|Tue Dec 16 2014 1...|\n",
      "|2015|     Ford|             Fusion|                  SE|      Sedan|   automatic|3fa6p0hdxfr145753|   ca|      2.0|  5559.0| white|   beige|enterprise vehicl...|15350.0|     12000.0|Tue Jan 13 2015 1...|\n",
      "|2015|      Kia|            Sorento|                  LX|        SUV|   automatic|5xyktca66fg561407|   ca|      5.0| 14634.0|silver|   black|kia motors americ...|20600.0|     21500.0|Tue Dec 16 2014 1...|\n",
      "|2015|   Nissan|             Altima|               2.5 S|      Sedan|   automatic|1n4al3ap5fc124223|   ca|      2.0| 11398.0| black|   black|enterprise vehicl...|14750.0|     14100.0|Tue Dec 23 2014 1...|\n",
      "|2014|     Audi|                 Q5|2.0T Premium Plus...|        SUV|   automatic|wa1lfafpxea085074|   ca|     49.0|  7983.0| white|   black|audi north scotts...|37100.0|     40000.0|Thu Dec 18 2014 1...|\n",
      "|2014|Chevrolet|             Camaro|                  LS|      Coupe|   automatic|2g1fa1e39e9134494|   ca|     17.0| 13441.0| black|   black|wells fargo deale...|17750.0|     17000.0|Tue Dec 30 2014 1...|\n",
      "|2014|      BMW|           6 Series|                650i|Convertible|   automatic|wbayp9c53ed169260|   ca|     34.0|  8819.0| black|   black|the hertz corpora...|68000.0|     67200.0|Wed Dec 17 2014 1...|\n",
      "|2015|Chevrolet|             Impala|                 LTZ|      Sedan|   automatic|2g1165s30f9103921|   ca|     19.0| 14538.0|silver|   black|enterprise vehicl...|24300.0|      7200.0|Tue Jul 07 2015 0...|\n",
      "|2014|      BMW|           5 Series|                528i|      Sedan|   automatic|wba5a5c51ed501631|   ca|     29.0| 25969.0| black|   black|financial service...|34200.0|     30000.0|Tue Feb 03 2015 0...|\n",
      "+----+---------+-------------------+--------------------+-----------+------------+-----------------+-----+---------+--------+------+--------+--------------------+-------+------------+--------------------+\n",
      "only showing top 20 rows\n",
      "\n"
     ]
    }
   ],
   "source": [
    "df = spark.read.format('csv').\\\n",
    "    option(\"header\", \"true\").\\\n",
    "    load(\"car_prices.csv\")\n",
    "df.printSchema()\n",
    "df.show()\n",
    "\n",
    "df.createOrReplaceTempView(\"car_prices\")"
   ]
  },
  {
   "cell_type": "code",
   "execution_count": 3,
   "metadata": {},
   "outputs": [
    {
     "name": "stderr",
     "output_type": "stream",
     "text": [
      "[Stage 2:>                                                        (0 + 19) / 19]\r"
     ]
    },
    {
     "name": "stdout",
     "output_type": "stream",
     "text": [
      "+----+-----+\n",
      "|year|count|\n",
      "+----+-----+\n",
      "|2015| 7994|\n",
      "|2014|69712|\n",
      "|2013|87467|\n",
      "|2012|87380|\n",
      "|2011|41384|\n",
      "|2010|22616|\n",
      "|2009|17959|\n",
      "|2008|27011|\n",
      "|2007|25378|\n",
      "|2006|21631|\n",
      "|2005|17169|\n",
      "|2004|13624|\n",
      "|2003|10368|\n",
      "|2002| 7693|\n",
      "|2001| 5140|\n",
      "|2000| 3427|\n",
      "|1999| 2227|\n",
      "|1998| 1464|\n",
      "|1997| 1042|\n",
      "|1996|  562|\n",
      "|1995|  483|\n",
      "|1994|  286|\n",
      "|1993|  127|\n",
      "|1992|   97|\n",
      "|1991|   51|\n",
      "|1990|   33|\n",
      "+----+-----+\n",
      "\n"
     ]
    },
    {
     "name": "stderr",
     "output_type": "stream",
     "text": [
      "                                                                                \r"
     ]
    }
   ],
   "source": [
    "# 年份统计\n",
    "# show(n=30) n表示最多展示的行数\n",
    "df.select('*').groupBy('year').count().sort('year',ascending=False).show(n=30)"
   ]
  },
  {
   "cell_type": "code",
   "execution_count": 4,
   "metadata": {},
   "outputs": [
    {
     "name": "stdout",
     "output_type": "stream",
     "text": [
      "+-------------+-----+\n",
      "|         make|count|\n",
      "+-------------+-----+\n",
      "|         Ford|81013|\n",
      "|    Chevrolet|54150|\n",
      "|       Nissan|44043|\n",
      "|       Toyota|35313|\n",
      "|        Dodge|27181|\n",
      "|        Honda|24781|\n",
      "|      Hyundai|18659|\n",
      "|          BMW|17509|\n",
      "|          Kia|15828|\n",
      "|     Chrysler|15133|\n",
      "|     Infiniti|14011|\n",
      "|Mercedes-Benz|14008|\n",
      "|         Jeep|12735|\n",
      "|   Volkswagen|10780|\n",
      "|        Lexus|10409|\n",
      "|          GMC| 9217|\n",
      "|        Mazda| 6930|\n",
      "|     Cadillac| 6315|\n",
      "|      Lincoln| 4926|\n",
      "|         Audi| 4802|\n",
      "|        Acura| 4503|\n",
      "|        Buick| 4470|\n",
      "|       Subaru| 4369|\n",
      "|          Ram| 4044|\n",
      "|      Pontiac| 4018|\n",
      "|   Mitsubishi| 3661|\n",
      "|        Volvo| 3082|\n",
      "|         MINI| 2946|\n",
      "|       Saturn| 2570|\n",
      "|      Mercury| 1571|\n",
      "+-------------+-----+\n",
      "only showing top 30 rows\n",
      "\n"
     ]
    }
   ],
   "source": [
    "# make统计\n",
    "\n",
    "df.select('*').groupBy('make').count().sort('count',ascending=False).show(n=30)"
   ]
  },
  {
   "cell_type": "code",
   "execution_count": 5,
   "metadata": {},
   "outputs": [
    {
     "ename": "Py4JError",
     "evalue": "An error occurred while calling o25.sql. Trace:\npy4j.Py4JException: Method sql([class java.lang.String, class java.util.HashMap]) does not exist\n\tat py4j.reflection.ReflectionEngine.getMethod(ReflectionEngine.java:318)\n\tat py4j.reflection.ReflectionEngine.getMethod(ReflectionEngine.java:326)\n\tat py4j.Gateway.invoke(Gateway.java:274)\n\tat py4j.commands.AbstractCommand.invokeMethod(AbstractCommand.java:132)\n\tat py4j.commands.CallCommand.execute(CallCommand.java:79)\n\tat py4j.ClientServerConnection.waitForCommands(ClientServerConnection.java:182)\n\tat py4j.ClientServerConnection.run(ClientServerConnection.java:106)\n\tat java.lang.Thread.run(Thread.java:750)\n\n",
     "output_type": "error",
     "traceback": [
      "\u001b[0;31m---------------------------------------------------------------------------\u001b[0m",
      "\u001b[0;31mPy4JError\u001b[0m                                 Traceback (most recent call last)",
      "Cell \u001b[0;32mIn[5], line 10\u001b[0m\n\u001b[1;32m      1\u001b[0m \u001b[38;5;66;03m# 车型统计信息\u001b[39;00m\n\u001b[1;32m      3\u001b[0m sql \u001b[38;5;241m=\u001b[39m \u001b[38;5;124m'''\u001b[39m\n\u001b[1;32m      4\u001b[0m \u001b[38;5;124mSELECT make, model, count(*) as total\u001b[39m\n\u001b[1;32m      5\u001b[0m \u001b[38;5;124mFROM car_prices\u001b[39m\n\u001b[1;32m      6\u001b[0m \u001b[38;5;124mGROUP BY make, model\u001b[39m\n\u001b[1;32m      7\u001b[0m \u001b[38;5;124mORDER BY make ASC, model DESC\u001b[39m\n\u001b[1;32m      8\u001b[0m \u001b[38;5;124m'''\u001b[39m\n\u001b[0;32m---> 10\u001b[0m \u001b[43mspark\u001b[49m\u001b[38;5;241;43m.\u001b[39;49m\u001b[43msql\u001b[49m\u001b[43m(\u001b[49m\u001b[43msqlQuery\u001b[49m\u001b[38;5;241;43m=\u001b[39;49m\u001b[43msql\u001b[49m\u001b[43m)\u001b[49m\u001b[38;5;241m.\u001b[39mshow(n\u001b[38;5;241m=\u001b[39m\u001b[38;5;241m50\u001b[39m)\n",
      "File \u001b[0;32m~/anaconda/envs/bdc/lib/python3.10/site-packages/pyspark/sql/session.py:1440\u001b[0m, in \u001b[0;36mSparkSession.sql\u001b[0;34m(self, sqlQuery, args, **kwargs)\u001b[0m\n\u001b[1;32m   1438\u001b[0m \u001b[38;5;28;01mtry\u001b[39;00m:\n\u001b[1;32m   1439\u001b[0m     litArgs \u001b[38;5;241m=\u001b[39m {k: _to_java_column(lit(v)) \u001b[38;5;28;01mfor\u001b[39;00m k, v \u001b[38;5;129;01min\u001b[39;00m (args \u001b[38;5;129;01mor\u001b[39;00m {})\u001b[38;5;241m.\u001b[39mitems()}\n\u001b[0;32m-> 1440\u001b[0m     \u001b[38;5;28;01mreturn\u001b[39;00m DataFrame(\u001b[38;5;28;43mself\u001b[39;49m\u001b[38;5;241;43m.\u001b[39;49m\u001b[43m_jsparkSession\u001b[49m\u001b[38;5;241;43m.\u001b[39;49m\u001b[43msql\u001b[49m\u001b[43m(\u001b[49m\u001b[43msqlQuery\u001b[49m\u001b[43m,\u001b[49m\u001b[43m \u001b[49m\u001b[43mlitArgs\u001b[49m\u001b[43m)\u001b[49m, \u001b[38;5;28mself\u001b[39m)\n\u001b[1;32m   1441\u001b[0m \u001b[38;5;28;01mfinally\u001b[39;00m:\n\u001b[1;32m   1442\u001b[0m     \u001b[38;5;28;01mif\u001b[39;00m \u001b[38;5;28mlen\u001b[39m(kwargs) \u001b[38;5;241m>\u001b[39m \u001b[38;5;241m0\u001b[39m:\n",
      "File \u001b[0;32m~/anaconda/envs/bdc/lib/python3.10/site-packages/py4j/java_gateway.py:1322\u001b[0m, in \u001b[0;36mJavaMember.__call__\u001b[0;34m(self, *args)\u001b[0m\n\u001b[1;32m   1316\u001b[0m command \u001b[38;5;241m=\u001b[39m proto\u001b[38;5;241m.\u001b[39mCALL_COMMAND_NAME \u001b[38;5;241m+\u001b[39m\\\n\u001b[1;32m   1317\u001b[0m     \u001b[38;5;28mself\u001b[39m\u001b[38;5;241m.\u001b[39mcommand_header \u001b[38;5;241m+\u001b[39m\\\n\u001b[1;32m   1318\u001b[0m     args_command \u001b[38;5;241m+\u001b[39m\\\n\u001b[1;32m   1319\u001b[0m     proto\u001b[38;5;241m.\u001b[39mEND_COMMAND_PART\n\u001b[1;32m   1321\u001b[0m answer \u001b[38;5;241m=\u001b[39m \u001b[38;5;28mself\u001b[39m\u001b[38;5;241m.\u001b[39mgateway_client\u001b[38;5;241m.\u001b[39msend_command(command)\n\u001b[0;32m-> 1322\u001b[0m return_value \u001b[38;5;241m=\u001b[39m \u001b[43mget_return_value\u001b[49m\u001b[43m(\u001b[49m\n\u001b[1;32m   1323\u001b[0m \u001b[43m    \u001b[49m\u001b[43manswer\u001b[49m\u001b[43m,\u001b[49m\u001b[43m \u001b[49m\u001b[38;5;28;43mself\u001b[39;49m\u001b[38;5;241;43m.\u001b[39;49m\u001b[43mgateway_client\u001b[49m\u001b[43m,\u001b[49m\u001b[43m \u001b[49m\u001b[38;5;28;43mself\u001b[39;49m\u001b[38;5;241;43m.\u001b[39;49m\u001b[43mtarget_id\u001b[49m\u001b[43m,\u001b[49m\u001b[43m \u001b[49m\u001b[38;5;28;43mself\u001b[39;49m\u001b[38;5;241;43m.\u001b[39;49m\u001b[43mname\u001b[49m\u001b[43m)\u001b[49m\n\u001b[1;32m   1325\u001b[0m \u001b[38;5;28;01mfor\u001b[39;00m temp_arg \u001b[38;5;129;01min\u001b[39;00m temp_args:\n\u001b[1;32m   1326\u001b[0m     \u001b[38;5;28;01mif\u001b[39;00m \u001b[38;5;28mhasattr\u001b[39m(temp_arg, \u001b[38;5;124m\"\u001b[39m\u001b[38;5;124m_detach\u001b[39m\u001b[38;5;124m\"\u001b[39m):\n",
      "File \u001b[0;32m~/anaconda/envs/bdc/lib/python3.10/site-packages/pyspark/errors/exceptions/captured.py:169\u001b[0m, in \u001b[0;36mcapture_sql_exception.<locals>.deco\u001b[0;34m(*a, **kw)\u001b[0m\n\u001b[1;32m    167\u001b[0m \u001b[38;5;28;01mdef\u001b[39;00m \u001b[38;5;21mdeco\u001b[39m(\u001b[38;5;241m*\u001b[39ma: Any, \u001b[38;5;241m*\u001b[39m\u001b[38;5;241m*\u001b[39mkw: Any) \u001b[38;5;241m-\u001b[39m\u001b[38;5;241m>\u001b[39m Any:\n\u001b[1;32m    168\u001b[0m     \u001b[38;5;28;01mtry\u001b[39;00m:\n\u001b[0;32m--> 169\u001b[0m         \u001b[38;5;28;01mreturn\u001b[39;00m \u001b[43mf\u001b[49m\u001b[43m(\u001b[49m\u001b[38;5;241;43m*\u001b[39;49m\u001b[43ma\u001b[49m\u001b[43m,\u001b[49m\u001b[43m \u001b[49m\u001b[38;5;241;43m*\u001b[39;49m\u001b[38;5;241;43m*\u001b[39;49m\u001b[43mkw\u001b[49m\u001b[43m)\u001b[49m\n\u001b[1;32m    170\u001b[0m     \u001b[38;5;28;01mexcept\u001b[39;00m Py4JJavaError \u001b[38;5;28;01mas\u001b[39;00m e:\n\u001b[1;32m    171\u001b[0m         converted \u001b[38;5;241m=\u001b[39m convert_exception(e\u001b[38;5;241m.\u001b[39mjava_exception)\n",
      "File \u001b[0;32m~/anaconda/envs/bdc/lib/python3.10/site-packages/py4j/protocol.py:330\u001b[0m, in \u001b[0;36mget_return_value\u001b[0;34m(answer, gateway_client, target_id, name)\u001b[0m\n\u001b[1;32m    326\u001b[0m         \u001b[38;5;28;01mraise\u001b[39;00m Py4JJavaError(\n\u001b[1;32m    327\u001b[0m             \u001b[38;5;124m\"\u001b[39m\u001b[38;5;124mAn error occurred while calling \u001b[39m\u001b[38;5;132;01m{0}\u001b[39;00m\u001b[38;5;132;01m{1}\u001b[39;00m\u001b[38;5;132;01m{2}\u001b[39;00m\u001b[38;5;124m.\u001b[39m\u001b[38;5;130;01m\\n\u001b[39;00m\u001b[38;5;124m\"\u001b[39m\u001b[38;5;241m.\u001b[39m\n\u001b[1;32m    328\u001b[0m             \u001b[38;5;28mformat\u001b[39m(target_id, \u001b[38;5;124m\"\u001b[39m\u001b[38;5;124m.\u001b[39m\u001b[38;5;124m\"\u001b[39m, name), value)\n\u001b[1;32m    329\u001b[0m     \u001b[38;5;28;01melse\u001b[39;00m:\n\u001b[0;32m--> 330\u001b[0m         \u001b[38;5;28;01mraise\u001b[39;00m Py4JError(\n\u001b[1;32m    331\u001b[0m             \u001b[38;5;124m\"\u001b[39m\u001b[38;5;124mAn error occurred while calling \u001b[39m\u001b[38;5;132;01m{0}\u001b[39;00m\u001b[38;5;132;01m{1}\u001b[39;00m\u001b[38;5;132;01m{2}\u001b[39;00m\u001b[38;5;124m. Trace:\u001b[39m\u001b[38;5;130;01m\\n\u001b[39;00m\u001b[38;5;132;01m{3}\u001b[39;00m\u001b[38;5;130;01m\\n\u001b[39;00m\u001b[38;5;124m\"\u001b[39m\u001b[38;5;241m.\u001b[39m\n\u001b[1;32m    332\u001b[0m             \u001b[38;5;28mformat\u001b[39m(target_id, \u001b[38;5;124m\"\u001b[39m\u001b[38;5;124m.\u001b[39m\u001b[38;5;124m\"\u001b[39m, name, value))\n\u001b[1;32m    333\u001b[0m \u001b[38;5;28;01melse\u001b[39;00m:\n\u001b[1;32m    334\u001b[0m     \u001b[38;5;28;01mraise\u001b[39;00m Py4JError(\n\u001b[1;32m    335\u001b[0m         \u001b[38;5;124m\"\u001b[39m\u001b[38;5;124mAn error occurred while calling \u001b[39m\u001b[38;5;132;01m{0}\u001b[39;00m\u001b[38;5;132;01m{1}\u001b[39;00m\u001b[38;5;132;01m{2}\u001b[39;00m\u001b[38;5;124m\"\u001b[39m\u001b[38;5;241m.\u001b[39m\n\u001b[1;32m    336\u001b[0m         \u001b[38;5;28mformat\u001b[39m(target_id, \u001b[38;5;124m\"\u001b[39m\u001b[38;5;124m.\u001b[39m\u001b[38;5;124m\"\u001b[39m, name))\n",
      "\u001b[0;31mPy4JError\u001b[0m: An error occurred while calling o25.sql. Trace:\npy4j.Py4JException: Method sql([class java.lang.String, class java.util.HashMap]) does not exist\n\tat py4j.reflection.ReflectionEngine.getMethod(ReflectionEngine.java:318)\n\tat py4j.reflection.ReflectionEngine.getMethod(ReflectionEngine.java:326)\n\tat py4j.Gateway.invoke(Gateway.java:274)\n\tat py4j.commands.AbstractCommand.invokeMethod(AbstractCommand.java:132)\n\tat py4j.commands.CallCommand.execute(CallCommand.java:79)\n\tat py4j.ClientServerConnection.waitForCommands(ClientServerConnection.java:182)\n\tat py4j.ClientServerConnection.run(ClientServerConnection.java:106)\n\tat java.lang.Thread.run(Thread.java:750)\n\n"
     ]
    }
   ],
   "source": [
    "# 车型统计信息\n",
    "\n",
    "sql = '''\n",
    "SELECT make, model, count(*) as total\n",
    "FROM car_prices\n",
    "GROUP BY make, model\n",
    "ORDER BY make ASC, model DESC\n",
    "'''\n",
    "\n",
    "spark.sql(sqlQuery=sql).show(n=50)"
   ]
  },
  {
   "cell_type": "code",
   "execution_count": null,
   "metadata": {},
   "outputs": [
    {
     "name": "stdout",
     "output_type": "stream",
     "text": [
      "+-------------+----------------+-----+\n",
      "|         make|           model|total|\n",
      "+-------------+----------------+-----+\n",
      "|       Nissan|          Altima|16346|\n",
      "|         Ford|          Fusion|12116|\n",
      "|         Ford|           F-150|11950|\n",
      "|       Toyota|           Camry|10986|\n",
      "|         Ford|          Escape|10656|\n",
      "|         Ford|           Focus| 9547|\n",
      "|        Honda|          Accord| 8528|\n",
      "|    Chevrolet|          Impala| 7500|\n",
      "|          BMW|        3 Series| 7132|\n",
      "|        Honda|           Civic| 7068|\n",
      "|        Dodge|   Grand Caravan| 6966|\n",
      "|     Infiniti|         G Sedan| 6939|\n",
      "|       Toyota|         Corolla| 6745|\n",
      "|         Ford|        Explorer| 6242|\n",
      "|    Chevrolet|          Malibu| 6213|\n",
      "|      Hyundai|          Sonata| 5787|\n",
      "|    Chevrolet|  Silverado 1500| 5685|\n",
      "|       Nissan|          Maxima| 5470|\n",
      "|    Chevrolet|           Cruze| 5404|\n",
      "|      Hyundai|         Elantra| 5343|\n",
      "|         Ford|            Edge| 5098|\n",
      "|     Chrysler|Town and Country| 5053|\n",
      "|         Ford|         Mustang| 4522|\n",
      "|Mercedes-Benz|         C-Class| 4441|\n",
      "|    Chevrolet|         Equinox| 4338|\n",
      "|       Nissan|          Sentra| 4226|\n",
      "|         Ford|          Taurus| 4180|\n",
      "|       Nissan|           Rogue| 4177|\n",
      "|   Volkswagen|           Jetta| 3990|\n",
      "|        Dodge|         Charger| 3989|\n",
      "|        Dodge|         Avenger| 3788|\n",
      "|          Kia|          Optima| 3755|\n",
      "|     Chrysler|             200| 3715|\n",
      "|         Jeep|  Grand Cherokee| 3670|\n",
      "|          BMW|        5 Series| 3479|\n",
      "|     Chrysler|             300| 3319|\n",
      "|         Jeep|        Wrangler| 3132|\n",
      "|Mercedes-Benz|         E-Class| 3058|\n",
      "|       Toyota|            RAV4| 3017|\n",
      "|        Honda|         Odyssey| 2991|\n",
      "|          Kia|         Sorento| 2914|\n",
      "|          Ram|            1500| 2838|\n",
      "|   Volkswagen|          Passat| 2783|\n",
      "|    Chevrolet|           Tahoe| 2735|\n",
      "|        Honda|            CR-V| 2718|\n",
      "|        Dodge|         Journey| 2693|\n",
      "|       Toyota|          Sienna| 2499|\n",
      "|          Kia|           Forte| 2470|\n",
      "|          Kia|            Soul| 2437|\n",
      "|       Nissan|          Murano| 2436|\n",
      "+-------------+----------------+-----+\n",
      "only showing top 50 rows\n",
      "\n"
     ]
    }
   ],
   "source": [
    "# 最好卖的车型top\n",
    "\n",
    "sql = '''\n",
    "SELECT make, model, count(*) as total\n",
    "FROM car_prices\n",
    "GROUP BY make, model\n",
    "ORDER BY total DESC\n",
    "'''\n",
    "\n",
    "spark.sql(sqlQuery=sql).show(n=50)"
   ]
  },
  {
   "cell_type": "code",
   "execution_count": null,
   "metadata": {},
   "outputs": [],
   "source": []
  }
 ],
 "metadata": {
  "kernelspec": {
   "display_name": "Python 3",
   "language": "python",
   "name": "python3"
  },
  "language_info": {
   "codemirror_mode": {
    "name": "ipython",
    "version": 3
   },
   "file_extension": ".py",
   "mimetype": "text/x-python",
   "name": "python",
   "nbconvert_exporter": "python",
   "pygments_lexer": "ipython3",
   "version": "3.10.13"
  }
 },
 "nbformat": 4,
 "nbformat_minor": 2
}
